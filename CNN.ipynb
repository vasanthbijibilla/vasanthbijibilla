{
  "nbformat": 4,
  "nbformat_minor": 0,
  "metadata": {
    "colab": {
      "name": "CNN.ipynb",
      "provenance": [],
      "collapsed_sections": [],
      "authorship_tag": "ABX9TyMBGOaah0Bzqt2c7jq+h81T",
      "include_colab_link": true
    },
    "kernelspec": {
      "name": "python3",
      "display_name": "Python 3"
    },
    "language_info": {
      "name": "python"
    }
  },
  "cells": [
    {
      "cell_type": "markdown",
      "metadata": {
        "id": "view-in-github",
        "colab_type": "text"
      },
      "source": [
        "<a href=\"https://colab.research.google.com/github/vasanthbijibilla/vasanthbijibilla/blob/main/CNN.ipynb\" target=\"_parent\"><img src=\"https://colab.research.google.com/assets/colab-badge.svg\" alt=\"Open In Colab\"/></a>"
      ]
    },
    {
      "cell_type": "code",
      "execution_count": 108,
      "metadata": {
        "id": "oNFSrHD9Kfbr"
      },
      "outputs": [],
      "source": [
        "import numpy as np\n",
        "from os import listdir, mkdir\n",
        "from os.path import isfile, join\n",
        "import h5py as h5\n",
        "import matplotlib.pyplot as plt"
      ]
    },
    {
      "cell_type": "code",
      "source": [
        "export_to = 'random-iter-1/'"
      ],
      "metadata": {
        "id": "43T0GtgDLKP7"
      },
      "execution_count": 109,
      "outputs": []
    },
    {
      "cell_type": "code",
      "source": [
        "mkdir(export_to)\n",
        "print(\"Directory created\")"
      ],
      "metadata": {
        "colab": {
          "base_uri": "https://localhost:8080/",
          "height": 183
        },
        "id": "4MxK1ZQqI1Xg",
        "outputId": "69e70c9f-e681-4a14-a014-d49572a0e832"
      },
      "execution_count": 110,
      "outputs": [
        {
          "output_type": "error",
          "ename": "FileExistsError",
          "evalue": "ignored",
          "traceback": [
            "\u001b[0;31m---------------------------------------------------------------------------\u001b[0m",
            "\u001b[0;31mFileExistsError\u001b[0m                           Traceback (most recent call last)",
            "\u001b[0;32m<ipython-input-110-681e6cfc299b>\u001b[0m in \u001b[0;36m<module>\u001b[0;34m()\u001b[0m\n\u001b[0;32m----> 1\u001b[0;31m \u001b[0mmkdir\u001b[0m\u001b[0;34m(\u001b[0m\u001b[0mexport_to\u001b[0m\u001b[0;34m)\u001b[0m\u001b[0;34m\u001b[0m\u001b[0;34m\u001b[0m\u001b[0m\n\u001b[0m\u001b[1;32m      2\u001b[0m \u001b[0mprint\u001b[0m\u001b[0;34m(\u001b[0m\u001b[0;34m\"Directory created\"\u001b[0m\u001b[0;34m)\u001b[0m\u001b[0;34m\u001b[0m\u001b[0;34m\u001b[0m\u001b[0m\n",
            "\u001b[0;31mFileExistsError\u001b[0m: [Errno 17] File exists: 'random-iter-1/'"
          ]
        }
      ]
    },
    {
      "cell_type": "code",
      "source": [
        "# Mapping from folder names (ZONFS) to set names (ABCDE)\n",
        "\n",
        "mapping_set_to_dir = {\n",
        "    'A': (0,'Z'),\n",
        "    'B': (1,'O'),\n",
        "    'C': (2,'N'),\n",
        "    'D': (3,'F'),\n",
        "    'E': (4,'S')\n",
        "}\n",
        "\n",
        "file_lists = []\n",
        "for s,d in mapping_set_to_dir.items():\n",
        "    file_lists.insert(d[0], [f for f in listdir(d[1]) if isfile(join(d[1], f))])"
      ],
      "metadata": {
        "id": "vc2-lZdhLKVt"
      },
      "execution_count": 112,
      "outputs": []
    },
    {
      "cell_type": "code",
      "source": [
        "file_lists[4]"
      ],
      "metadata": {
        "id": "3-FVQ7dyLKY6",
        "colab": {
          "base_uri": "https://localhost:8080/"
        },
        "outputId": "9f42bc5d-c20a-47b6-f847-cb6d59ce9e12"
      },
      "execution_count": 113,
      "outputs": [
        {
          "output_type": "execute_result",
          "data": {
            "text/plain": [
              "['S070.txt',\n",
              " 'S033.txt',\n",
              " 'S035.txt',\n",
              " 'S014.txt',\n",
              " 'S027.txt',\n",
              " 'S030.txt',\n",
              " 'S041.txt',\n",
              " 'S049.txt',\n",
              " 'S044.txt',\n",
              " 'S087.txt',\n",
              " 'S015.txt',\n",
              " 'S021.txt',\n",
              " 'S098.txt',\n",
              " 'S053.txt',\n",
              " 'S022.txt',\n",
              " 'S094.txt',\n",
              " 'S060.txt',\n",
              " 'S007.txt',\n",
              " 'S050.txt',\n",
              " 'S100.txt',\n",
              " 'S081.txt',\n",
              " 'S091.txt',\n",
              " 'S043.txt',\n",
              " 'S084.txt',\n",
              " 'S099.txt',\n",
              " 'S057.txt',\n",
              " 'S051.txt',\n",
              " 'S065.txt',\n",
              " 'S073.txt',\n",
              " 'S071.txt',\n",
              " 'S039.txt',\n",
              " 'S056.txt',\n",
              " 'S023.txt',\n",
              " 'S052.txt',\n",
              " 'S025.txt',\n",
              " 'S074.txt',\n",
              " 'S002.txt',\n",
              " 'S072.txt',\n",
              " 'S004.txt',\n",
              " 'S064.txt',\n",
              " 'S068.txt',\n",
              " 'S097.txt',\n",
              " 'S019.txt',\n",
              " 'S069.txt',\n",
              " 'S012.txt',\n",
              " 'S031.txt',\n",
              " 'S038.txt',\n",
              " 'S085.txt',\n",
              " 'S020.txt',\n",
              " 'S058.txt',\n",
              " 'S088.txt',\n",
              " 'S077.txt',\n",
              " 'S009.txt',\n",
              " 'S062.txt',\n",
              " 'S047.txt',\n",
              " 'S010.txt',\n",
              " 'S013.txt',\n",
              " 'S095.txt',\n",
              " 'S092.txt',\n",
              " 'S040.txt',\n",
              " 'S001.txt',\n",
              " 'S024.txt',\n",
              " 'S026.txt',\n",
              " 'S034.txt',\n",
              " 'S083.txt',\n",
              " 'S037.txt',\n",
              " 'S054.txt',\n",
              " 'S046.txt',\n",
              " 'S086.txt',\n",
              " 'S006.txt',\n",
              " 'S066.txt',\n",
              " 'S055.txt',\n",
              " 'S042.txt',\n",
              " 'S016.txt',\n",
              " 'S017.txt',\n",
              " 'S032.txt',\n",
              " 'S079.txt',\n",
              " 'S003.txt',\n",
              " 'S018.txt',\n",
              " 'S090.txt',\n",
              " 'S082.txt',\n",
              " 'S036.txt',\n",
              " 'S076.txt',\n",
              " 'S093.txt',\n",
              " 'S078.txt',\n",
              " 'S005.txt',\n",
              " 'S045.txt',\n",
              " 'S059.txt',\n",
              " 'S080.txt',\n",
              " 'S028.txt',\n",
              " 'S029.txt',\n",
              " 'S063.txt',\n",
              " 'S096.txt',\n",
              " 'S089.txt',\n",
              " 'S067.txt',\n",
              " 'S048.txt',\n",
              " 'S075.txt',\n",
              " 'S011.txt',\n",
              " 'S008.txt',\n",
              " 'S061.txt']"
            ]
          },
          "metadata": {},
          "execution_count": 113
        }
      ]
    },
    {
      "cell_type": "code",
      "source": [
        "raw_dataset = { }\n",
        "\n",
        "for s,d in mapping_set_to_dir.items():\n",
        "    \n",
        "    for f in file_lists[d[0]]:\n",
        "        curr_example = np.loadtxt(join(d[1], f))\n",
        "        \n",
        "\n",
        "        if (s in raw_dataset):\n",
        "            raw_dataset[s] = np.append(raw_dataset[s], [curr_example], axis=0)\n",
        "        else:\n",
        "            raw_dataset[s] = np.array([curr_example])"
      ],
      "metadata": {
        "id": "mA8d6aA1LKbj"
      },
      "execution_count": 114,
      "outputs": []
    },
    {
      "cell_type": "code",
      "source": [
        "raw_dataset['E'].shape"
      ],
      "metadata": {
        "colab": {
          "base_uri": "https://localhost:8080/"
        },
        "id": "IAIrK6sWNior",
        "outputId": "8c90671d-a345-4189-a9ed-362514fde30a"
      },
      "execution_count": 115,
      "outputs": [
        {
          "output_type": "execute_result",
          "data": {
            "text/plain": [
              "(100, 4097)"
            ]
          },
          "metadata": {},
          "execution_count": 115
        }
      ]
    },
    {
      "cell_type": "code",
      "source": [
        "s = 'E'\n",
        "index = 46\n",
        "\n",
        "plot_title = ''\n",
        "if (s in ['A', 'B']):\n",
        "    plot_title = 'Sample signal from non-epileptic person'\n",
        "elif (s in ['C', 'D']):\n",
        "    plot_title = 'Sample signal from epileptic person (non-ictal / non-seizure)'\n",
        "elif (s == 'E'):\n",
        "    plot_title = 'Sample signal from epileptic person (ictal / seizure)'\n",
        "else:\n",
        "    print('s can be one of A,B,C,D,E')\n",
        "\n",
        "plt.figure(figsize=(8,4))\n",
        "plt.plot(raw_dataset[s][index], linewidth=0.7)\n",
        "plt.title(plot_title)\n",
        "plt.xlabel('Seconds')\n",
        "plt.ylabel('EEG Signal (\\u00B5V)')\n",
        "tick_points = np.arange(0,9)*500 # each signal contains 4097 data points\n",
        "plt.xticks(tick_points, np.round((tick_points/173.16)*10)/10) # mapping n-th data point to the time in seconds from the start of signal (173.16 Hz)\n",
        "plt.show()"
      ],
      "metadata": {
        "colab": {
          "base_uri": "https://localhost:8080/",
          "height": 295
        },
        "id": "OeIdnXlBNizB",
        "outputId": "2e3d6149-5826-4252-b51f-9c35c28d8ed1"
      },
      "execution_count": 116,
      "outputs": [
        {
          "output_type": "display_data",
          "data": {
            "text/plain": [
              "<Figure size 576x288 with 1 Axes>"
            ],
            "image/png": "[encoded data removed]"
          },
          "metadata": {
            "needs_background": "light"
          }
        }
      ]
    },
    {
      "cell_type": "code",
      "source": [
        "def create_augmented_dataset(raw_dataset, window_size = 512, stride = 64, verbose=False):\n",
        "    \"\"\"\n",
        "    This function augments the dataset using sliding windows\n",
        "    \n",
        "    Parameters:\n",
        "    raw_dataset: Dictionary containing a batch of examples for one set in each key\n",
        "    window_size: Sliding window size\n",
        "    stride: Steps by which sliding window moves and samples\n",
        "    verbose: Display progress\n",
        "    \n",
        "    Returns:\n",
        "    augmented_dataset: Dictionary containing a batch of smaller augmented examples than raw_dataset\n",
        "    \n",
        "    \n",
        "    \"\"\"\n",
        "    \n",
        "    augmented_dataset = { }\n",
        "\n",
        "    for s,Xset_raw in raw_dataset.items():\n",
        "        \n",
        "        if (verbose):\n",
        "            print('Processing set ' + s)\n",
        "\n",
        "        total_points = Xset_raw.shape[1]\n",
        "\n",
        "        # no. of examples generated from single training example using sliding window\n",
        "        # = floor((total_points - window_size) / stride) + 1\n",
        "        iterations = ((total_points - window_size) // stride) + 1\n",
        "\n",
        "        for x_raw in Xset_raw:\n",
        "\n",
        "            for i in range(iterations):\n",
        "                window_slice_from = i*stride\n",
        "                window_slice_to = i*stride + window_size\n",
        "\n",
        "                if (s in augmented_dataset):\n",
        "                    augmented_dataset[s] = np.append(augmented_dataset[s], [x_raw[window_slice_from:window_slice_to]], axis=0)\n",
        "                else:\n",
        "                    augmented_dataset[s] = np.array([x_raw[window_slice_from:window_slice_to]])\n",
        "\n",
        "    \n",
        "    if (verbose):\n",
        "        print('Done.')\n",
        "    return augmented_dataset"
      ],
      "metadata": {
        "id": "zP7QR0cLNq_R"
      },
      "execution_count": 117,
      "outputs": []
    },
    {
      "cell_type": "code",
      "source": [
        "raw_dataset_train = { }\n",
        "raw_dataset_dev = { }\n",
        "raw_dataset_test = { }\n",
        "\n",
        "for s,Xset_raw in raw_dataset.items():\n",
        "    \n",
        "    # randomly shuffle the data, just to make sure\n",
        "    # that all train/dev/test sets come from same\n",
        "    # distribution, (possibly not from a same person)\n",
        "    np.random.shuffle(raw_dataset[s])\n",
        "    \n",
        "    ninety_percent = np.floor(0.9 * raw_dataset[s].shape[0]).astype(int)\n",
        "    five_percent = np.floor(0.05 * raw_dataset[s].shape[0]).astype(int)\n",
        "    \n",
        "    # train set 0 - 89 (90%)\n",
        "    raw_dataset_train[s] = raw_dataset[s][0:ninety_percent,:]\n",
        "    \n",
        "    # dev set 90 - 94 (5%)\n",
        "    raw_dataset_dev[s] = raw_dataset[s][ninety_percent:ninety_percent+five_percent,:]\n",
        "    \n",
        "    # test set 95 - 99 (5%)\n",
        "    raw_dataset_test[s] = raw_dataset[s][ninety_percent+five_percent:,:]"
      ],
      "metadata": {
        "id": "4zUd0bKVNrHh"
      },
      "execution_count": 118,
      "outputs": []
    },
    {
      "cell_type": "code",
      "source": [
        "print(raw_dataset_train['D'].shape)\n",
        "print(raw_dataset_dev['A'].shape)\n",
        "print(raw_dataset_test['C'].shape)"
      ],
      "metadata": {
        "colab": {
          "base_uri": "https://localhost:8080/"
        },
        "id": "fJwHIhARNrL0",
        "outputId": "413a3356-e7ac-4015-c77f-424da99ed61f"
      },
      "execution_count": 119,
      "outputs": [
        {
          "output_type": "stream",
          "name": "stdout",
          "text": [
            "(90, 4097)\n",
            "(5, 4097)\n",
            "(5, 4097)\n"
          ]
        }
      ]
    },
    {
      "cell_type": "code",
      "source": [
        "print(\"Augmenting training data\")\n",
        "aug_dataset512_train = create_augmented_dataset(raw_dataset_train, window_size=512, stride=64, verbose=True)\n",
        "\n",
        "print(\"Augmenting dev data\")\n",
        "aug_dataset512_dev = create_augmented_dataset(raw_dataset_dev, window_size=512, stride=256, verbose=True)\n",
        "\n",
        "print(\"Augmenting test data\")\n",
        "aug_dataset512_test = create_augmented_dataset(raw_dataset_test, window_size=512, stride=256, verbose=True)"
      ],
      "metadata": {
        "colab": {
          "base_uri": "https://localhost:8080/"
        },
        "id": "lbPvBA9TNrPx",
        "outputId": "c7387289-ccd6-41a3-cc03-6cd6e474a5b4"
      },
      "execution_count": 120,
      "outputs": [
        {
          "output_type": "stream",
          "name": "stdout",
          "text": [
            "Augmenting training data\n",
            "Processing set A\n",
            "Processing set B\n",
            "Processing set C\n",
            "Processing set D\n",
            "Processing set E\n",
            "Done.\n",
            "Augmenting dev data\n",
            "Processing set A\n",
            "Processing set B\n",
            "Processing set C\n",
            "Processing set D\n",
            "Processing set E\n",
            "Done.\n",
            "Augmenting test data\n",
            "Processing set A\n",
            "Processing set B\n",
            "Processing set C\n",
            "Processing set D\n",
            "Processing set E\n",
            "Done.\n"
          ]
        }
      ]
    },
    {
      "cell_type": "code",
      "source": [
        "print('Augmenting training data')\n",
        "aug_dataset1024_train = create_augmented_dataset(raw_dataset_train, window_size=1024, stride=128, verbose=True)\n",
        "\n",
        "print ('Augmenting dev data')\n",
        "aug_dataset1024_dev = create_augmented_dataset(raw_dataset_dev, window_size=1024, stride=512, verbose=True)\n",
        "\n",
        "print('Augmenting test data')\n",
        "aug_dataset1024_test = create_augmented_dataset(raw_dataset_test, window_size=1024, stride=512, verbose=True)"
      ],
      "metadata": {
        "colab": {
          "base_uri": "https://localhost:8080/"
        },
        "id": "CAveQHUEN-oh",
        "outputId": "8546a137-e27b-4fa1-a46b-6dcad365ac7c"
      },
      "execution_count": 121,
      "outputs": [
        {
          "output_type": "stream",
          "name": "stdout",
          "text": [
            "Augmenting training data\n",
            "Processing set A\n",
            "Processing set B\n",
            "Processing set C\n",
            "Processing set D\n",
            "Processing set E\n",
            "Done.\n",
            "Augmenting dev data\n",
            "Processing set A\n",
            "Processing set B\n",
            "Processing set C\n",
            "Processing set D\n",
            "Processing set E\n",
            "Done.\n",
            "Augmenting test data\n",
            "Processing set A\n",
            "Processing set B\n",
            "Processing set C\n",
            "Processing set D\n",
            "Processing set E\n",
            "Done.\n"
          ]
        }
      ]
    },
    {
      "cell_type": "code",
      "source": [
        "print(aug_dataset512_train['E'].shape)\n",
        "print(aug_dataset512_dev['C'].shape)\n",
        "print(aug_dataset512_test['D'].shape)"
      ],
      "metadata": {
        "colab": {
          "base_uri": "https://localhost:8080/"
        },
        "id": "nh865Q43OAXy",
        "outputId": "2dafda1b-a3ff-4c8a-eb7f-6f776aef557b"
      },
      "execution_count": 122,
      "outputs": [
        {
          "output_type": "stream",
          "name": "stdout",
          "text": [
            "(5130, 512)\n",
            "(75, 512)\n",
            "(75, 512)\n"
          ]
        }
      ]
    },
    {
      "cell_type": "code",
      "source": [
        "print(aug_dataset1024_train['E'].shape)\n",
        "print(aug_dataset1024_dev['C'].shape)\n",
        "print(aug_dataset1024_test['D'].shape)"
      ],
      "metadata": {
        "colab": {
          "base_uri": "https://localhost:8080/"
        },
        "id": "UxRSDS5UOAaz",
        "outputId": "f5178a33-97bb-4916-fb32-16646f16b6c3"
      },
      "execution_count": 123,
      "outputs": [
        {
          "output_type": "stream",
          "name": "stdout",
          "text": [
            "(2250, 1024)\n",
            "(35, 1024)\n",
            "(35, 1024)\n"
          ]
        }
      ]
    },
    {
      "cell_type": "code",
      "source": [
        "with h5.File(export_to + 'aug_dataset512.h5', 'w') as aug_file512:\n",
        "    \n",
        "    train512 = aug_file512.create_group('train')\n",
        "    dev512 = aug_file512.create_group('dev')\n",
        "    test512 = aug_file512.create_group('test')\n",
        "\n",
        "    for s in aug_dataset512_train.keys():\n",
        "        \n",
        "        train512.create_dataset(s, data=aug_dataset512_train[s])\n",
        "        dev512.create_dataset(s, data=aug_dataset512_dev[s])\n",
        "        test512.create_dataset(s, data=aug_dataset512_test[s])\n",
        "        "
      ],
      "metadata": {
        "id": "IgnP-mynOAeR"
      },
      "execution_count": 124,
      "outputs": []
    },
    {
      "cell_type": "code",
      "source": [
        "with h5.File(export_to + 'aug_dataset1024.h5', 'w') as aug_file1024:\n",
        "    \n",
        "    train1024 = aug_file1024.create_group('train')\n",
        "    dev1024 = aug_file1024.create_group('dev')\n",
        "    test1024 = aug_file1024.create_group('test')\n",
        "\n",
        "    for s in aug_dataset1024_train.keys():\n",
        "        \n",
        "        train1024.create_dataset(s, data=aug_dataset1024_train[s])\n",
        "        dev1024.create_dataset(s, data=aug_dataset1024_dev[s])\n",
        "        test1024.create_dataset(s, data=aug_dataset1024_test[s])"
      ],
      "metadata": {
        "id": "g-SJpe7hOAhT"
      },
      "execution_count": 125,
      "outputs": []
    },
    {
      "cell_type": "code",
      "source": [
        "\n",
        "with h5.File(export_to + 'aug_dataset1024.h5', 'w') as aug_file1024:\n",
        "    \n",
        "    train1024 = aug_file1024.create_group('train')\n",
        "    dev1024 = aug_file1024.create_group('dev')\n",
        "    test1024 = aug_file1024.create_group('test')\n",
        "\n",
        "    for s in aug_dataset1024_train.keys():\n",
        "        \n",
        "        train1024.create_dataset(s, data=aug_dataset1024_train[s])\n",
        "        dev1024.create_dataset(s, data=aug_dataset1024_dev[s])\n",
        "        test1024.create_dataset(s, data=aug_dataset1024_test[s])\n",
        "aug_file512 = h5.File(export_to + 'aug_dataset512.h5', 'r')\n",
        "print(aug_file512['train']['A'].shape)\n",
        "print(aug_file512['dev']['C'].shape)\n",
        "print(aug_file512['test']['D'].shape)"
      ],
      "metadata": {
        "colab": {
          "base_uri": "https://localhost:8080/"
        },
        "id": "jxsOY-8gOAkh",
        "outputId": "f1c38fcc-6b02-4fac-cbe8-8fb42c821621"
      },
      "execution_count": 126,
      "outputs": [
        {
          "output_type": "stream",
          "name": "stdout",
          "text": [
            "(5130, 512)\n",
            "(75, 512)\n",
            "(75, 512)\n"
          ]
        }
      ]
    },
    {
      "cell_type": "code",
      "source": [
        "aug_file1024 = h5.File(export_to + 'aug_dataset1024.h5', 'r')\n",
        "print(aug_file1024['train']['A'].shape)\n",
        "print(aug_file1024['dev']['C'].shape)\n",
        "print(aug_file1024['test']['D'].shape)"
      ],
      "metadata": {
        "colab": {
          "base_uri": "https://localhost:8080/"
        },
        "id": "SWhL5-RqOy8b",
        "outputId": "07fabf6b-bbd7-493e-86c8-ca72f637f104"
      },
      "execution_count": 127,
      "outputs": [
        {
          "output_type": "stream",
          "name": "stdout",
          "text": [
            "(2250, 1024)\n",
            "(35, 1024)\n",
            "(35, 1024)\n"
          ]
        }
      ]
    },
    {
      "cell_type": "code",
      "source": [
        "s = 'B'\n",
        "index = 400\n",
        "plt.plot(aug_file512['train'][s][index])"
      ],
      "metadata": {
        "colab": {
          "base_uri": "https://localhost:8080/",
          "height": 282
        },
        "id": "nGRQcmpKOzAs",
        "outputId": "c9821fa9-a57f-4c68-fed4-66b36d8ce3b7"
      },
      "execution_count": 128,
      "outputs": [
        {
          "output_type": "execute_result",
          "data": {
            "text/plain": [
              "[<matplotlib.lines.Line2D at 0x7ff220f45790>]"
            ]
          },
          "metadata": {},
          "execution_count": 128
        },
        {
          "output_type": "display_data",
          "data": {
            "text/plain": [
              "<Figure size 432x288 with 1 Axes>"
            ],
            "image/png": "[encoded data removed]"
          },
          "metadata": {
            "needs_background": "light"
          }
        }
      ]
    },
    {
      "cell_type": "code",
      "source": [
        "s = 'E'\n",
        "index = 175\n",
        "plt.plot(aug_file1024['train'][s][index])"
      ],
      "metadata": {
        "colab": {
          "base_uri": "https://localhost:8080/",
          "height": 282
        },
        "id": "dULsKFjJO4ma",
        "outputId": "be41448a-bd04-4f98-ce0d-82a745ff1c66"
      },
      "execution_count": 129,
      "outputs": [
        {
          "output_type": "execute_result",
          "data": {
            "text/plain": [
              "[<matplotlib.lines.Line2D at 0x7ff220f324d0>]"
            ]
          },
          "metadata": {},
          "execution_count": 129
        },
        {
          "output_type": "display_data",
          "data": {
            "text/plain": [
              "<Figure size 432x288 with 1 Axes>"
            ],
            "image/png": "[encoded data removed]"
          },
          "metadata": {
            "needs_background": "light"
          }
        }
      ]
    },
    {
      "cell_type": "code",
      "source": [
        "aug_file512.close()"
      ],
      "metadata": {
        "id": "8-fpvoqzO4qL"
      },
      "execution_count": 130,
      "outputs": []
    },
    {
      "cell_type": "code",
      "source": [
        "aug_file512.close()\n",
        "aug_file1024.close()"
      ],
      "metadata": {
        "id": "qcn5URIZO4tz"
      },
      "execution_count": 131,
      "outputs": []
    },
    {
      "cell_type": "code",
      "source": [
        "import tensorflow as tf\n",
        "import tensorflow.compat.v1 as tf\n",
        "tf.disable_v2_behavior()\n"
      ],
      "metadata": {
        "id": "H02XiUyAO4yR"
      },
      "execution_count": 132,
      "outputs": []
    },
    {
      "cell_type": "code",
      "source": [
        "\n",
        "# For 3 class classification\n",
        "class_map = { 'A': 0, 'B': 0, 'C': 1, 'D': 1, 'E': 2 }\n",
        "\n",
        "def read_dataset_and_one_hot_labels(filepath, setname, verbose=False):\n",
        "    \"\"\"\n",
        "    Converts the dataset's labels into one-hot encoding\n",
        "    \n",
        "    Parameters:\n",
        "    filepath: augmented dataset without one-hot encoding\n",
        "    setname: either 'train', 'dev', or 'test'\n",
        "    verbose: Display progress\n",
        "    \n",
        "    Returns:\n",
        "    data: dataset with keys X_<setname>, Y_<setname>_classname, and Y_<setname> (one-hot labels). \n",
        "    \"\"\"\n",
        "    \n",
        "    data = { }\n",
        "\n",
        "    # Read dataset that is already stored in the file\n",
        "    with h5.File(filepath, 'r') as aug_file:\n",
        "\n",
        "        # classes are AB, CD, and E\n",
        "        no_of_classes = 3\n",
        "\n",
        "        for s in aug_file[setname].keys():\n",
        "            \n",
        "            if (verbose):\n",
        "                print(\"Processing class: \" + s)\n",
        "            \n",
        "            class_length = len(aug_file[setname][s])\n",
        "            \n",
        "            # go through each example in the class\n",
        "            for i in range(class_length):\n",
        "                \n",
        "                if (verbose and i % (class_length / 5) == 0):\n",
        "                    print((str)((int)(i / class_length * 100)) + '%')\n",
        "                \n",
        "                # create a big (combination of all classes) dataset\n",
        "                # and also set their labels in a separate array\n",
        "                if (('X_' + setname) in data):\n",
        "                    data['X_' + setname] = np.append(data['X_' + setname], [aug_file[setname][s][i]], axis=0)\n",
        "                    data['Y_' + setname + '_classname'] = np.append(data['Y_' + setname + '_classname'], [class_map[s]], axis=0)\n",
        "                else:\n",
        "                    data['X_' + setname] = np.array([aug_file[setname][s][i]])\n",
        "                    data['Y_' + setname + '_classname'] = np.array([class_map[s]])\n",
        "\n",
        "\n",
        "        \n",
        "        if (verbose):\n",
        "            print(\"Converting to one_hot\")\n",
        "            \n",
        "        # use tensorflow one_hot function to convert labels into one_hot values\n",
        "        tf.reset_default_graph()\n",
        "        \n",
        "        init = tf.global_variables_initializer()\n",
        "        \n",
        "        with tf.Session() as sess:\n",
        "            sess.run(init)\n",
        "            data['Y_' + setname] = sess.run(tf.one_hot(data['Y_' + setname + '_classname'], depth=no_of_classes, axis=-1))\n",
        "        \n",
        "        if (verbose):\n",
        "            print(\"Done.\")\n",
        "\n",
        "    return data"
      ],
      "metadata": {
        "id": "_AF99WeRPFHx"
      },
      "execution_count": 133,
      "outputs": []
    },
    {
      "cell_type": "code",
      "source": [
        "print(\"Converting training set to one hot\")\n",
        "data512_train = read_dataset_and_one_hot_labels(export_to + 'aug_dataset512.h5', 'train', verbose=True)\n",
        "print(\"Converting dev set to one hot\")\n",
        "data512_dev = read_dataset_and_one_hot_labels(export_to + 'aug_dataset512.h5', 'dev', verbose=True)\n",
        "print(\"Converting test set to one hot\")\n",
        "data512_test = read_dataset_and_one_hot_labels(export_to + 'aug_dataset512.h5', 'test', verbose=True)\n"
      ],
      "metadata": {
        "colab": {
          "base_uri": "https://localhost:8080/"
        },
        "id": "4L3-4sGePElP",
        "outputId": "1f90ce6b-0a5e-4323-a175-7f8a3f9d6660"
      },
      "execution_count": 134,
      "outputs": [
        {
          "output_type": "stream",
          "name": "stdout",
          "text": [
            "Converting training set to one hot\n",
            "Processing class: A\n",
            "0%\n",
            "20%\n",
            "40%\n",
            "60%\n",
            "80%\n",
            "Processing class: B\n",
            "0%\n",
            "20%\n",
            "40%\n",
            "60%\n",
            "80%\n",
            "Processing class: C\n",
            "0%\n",
            "20%\n",
            "40%\n",
            "60%\n",
            "80%\n",
            "Processing class: D\n",
            "0%\n",
            "20%\n",
            "40%\n",
            "60%\n",
            "80%\n",
            "Processing class: E\n",
            "0%\n",
            "20%\n",
            "40%\n",
            "60%\n",
            "80%\n",
            "Converting to one_hot\n",
            "Done.\n",
            "Converting dev set to one hot\n",
            "Processing class: A\n",
            "0%\n",
            "20%\n",
            "40%\n",
            "60%\n",
            "80%\n",
            "Processing class: B\n",
            "0%\n",
            "20%\n",
            "40%\n",
            "60%\n",
            "80%\n",
            "Processing class: C\n",
            "0%\n",
            "20%\n",
            "40%\n",
            "60%\n",
            "80%\n",
            "Processing class: D\n",
            "0%\n",
            "20%\n",
            "40%\n",
            "60%\n",
            "80%\n",
            "Processing class: E\n",
            "0%\n",
            "20%\n",
            "40%\n",
            "60%\n",
            "80%\n",
            "Converting to one_hot\n",
            "Done.\n",
            "Converting test set to one hot\n",
            "Processing class: A\n",
            "0%\n",
            "20%\n",
            "40%\n",
            "60%\n",
            "80%\n",
            "Processing class: B\n",
            "0%\n",
            "20%\n",
            "40%\n",
            "60%\n",
            "80%\n",
            "Processing class: C\n",
            "0%\n",
            "20%\n",
            "40%\n",
            "60%\n",
            "80%\n",
            "Processing class: D\n",
            "0%\n",
            "20%\n",
            "40%\n",
            "60%\n",
            "80%\n",
            "Processing class: E\n",
            "0%\n",
            "20%\n",
            "40%\n",
            "60%\n",
            "80%\n",
            "Converting to one_hot\n",
            "Done.\n"
          ]
        }
      ]
    },
    {
      "cell_type": "code",
      "source": [
        "with h5.File(export_to + 'datafile512.h5', 'w') as datafile512:\n",
        "\n",
        "    datafile512.create_dataset('X_train', data=data512_train['X_train'])\n",
        "    datafile512.create_dataset('Y_train_classname', data=data512_train['Y_train_classname'])\n",
        "    datafile512.create_dataset('Y_train', data=data512_train['Y_train'])\n",
        "    \n",
        "    datafile512.create_dataset('X_dev', data=data512_dev['X_dev'])\n",
        "    datafile512.create_dataset('Y_dev_classname', data=data512_dev['Y_dev_classname'])\n",
        "    datafile512.create_dataset('Y_dev', data=data512_dev['Y_dev'])\n",
        "    \n",
        "    datafile512.create_dataset('X_test', data=data512_test['X_test'])\n",
        "    datafile512.create_dataset('Y_test_classname', data=data512_test['Y_test_classname'])\n",
        "    datafile512.create_dataset('Y_test', data=data512_test['Y_test'])"
      ],
      "metadata": {
        "id": "VfKbJ0TMO415"
      },
      "execution_count": 135,
      "outputs": []
    },
    {
      "cell_type": "code",
      "source": [
        "print(\"Converting training set to one hot\")\n",
        "data1024_train = read_dataset_and_one_hot_labels(export_to + 'aug_dataset1024.h5', 'train', verbose=True)\n",
        "print(\"Converting dev set to one hot\")\n",
        "data1024_dev = read_dataset_and_one_hot_labels(export_to + 'aug_dataset1024.h5', 'dev', verbose=True)\n",
        "print(\"Converting test set to one hot\")\n",
        "data1024_test = read_dataset_and_one_hot_labels(export_to + 'aug_dataset1024.h5', 'test', verbose=True)"
      ],
      "metadata": {
        "colab": {
          "base_uri": "https://localhost:8080/"
        },
        "id": "uczD335YO45R",
        "outputId": "c176fd3f-25fd-4edc-9d9a-ca551896f53d"
      },
      "execution_count": 136,
      "outputs": [
        {
          "output_type": "stream",
          "name": "stdout",
          "text": [
            "Converting training set to one hot\n",
            "Processing class: A\n",
            "0%\n",
            "20%\n",
            "40%\n",
            "60%\n",
            "80%\n",
            "Processing class: B\n",
            "0%\n",
            "20%\n",
            "40%\n",
            "60%\n",
            "80%\n",
            "Processing class: C\n",
            "0%\n",
            "20%\n",
            "40%\n",
            "60%\n",
            "80%\n",
            "Processing class: D\n",
            "0%\n",
            "20%\n",
            "40%\n",
            "60%\n",
            "80%\n",
            "Processing class: E\n",
            "0%\n",
            "20%\n",
            "40%\n",
            "60%\n",
            "80%\n",
            "Converting to one_hot\n",
            "Done.\n",
            "Converting dev set to one hot\n",
            "Processing class: A\n",
            "0%\n",
            "20%\n",
            "40%\n",
            "60%\n",
            "80%\n",
            "Processing class: B\n",
            "0%\n",
            "20%\n",
            "40%\n",
            "60%\n",
            "80%\n",
            "Processing class: C\n",
            "0%\n",
            "20%\n",
            "40%\n",
            "60%\n",
            "80%\n",
            "Processing class: D\n",
            "0%\n",
            "20%\n",
            "40%\n",
            "60%\n",
            "80%\n",
            "Processing class: E\n",
            "0%\n",
            "20%\n",
            "40%\n",
            "60%\n",
            "80%\n",
            "Converting to one_hot\n",
            "Done.\n",
            "Converting test set to one hot\n",
            "Processing class: A\n",
            "0%\n",
            "20%\n",
            "40%\n",
            "60%\n",
            "80%\n",
            "Processing class: B\n",
            "0%\n",
            "20%\n",
            "40%\n",
            "60%\n",
            "80%\n",
            "Processing class: C\n",
            "0%\n",
            "20%\n",
            "40%\n",
            "60%\n",
            "80%\n",
            "Processing class: D\n",
            "0%\n",
            "20%\n",
            "40%\n",
            "60%\n",
            "80%\n",
            "Processing class: E\n",
            "0%\n",
            "20%\n",
            "40%\n",
            "60%\n",
            "80%\n",
            "Converting to one_hot\n",
            "Done.\n"
          ]
        }
      ]
    },
    {
      "cell_type": "code",
      "source": [
        "with h5.File(export_to + 'datafile1024.h5', 'w') as datafile1024:\n",
        "\n",
        "    datafile1024.create_dataset('X_train', data=data1024_train['X_train'])\n",
        "    datafile1024.create_dataset('Y_train_classname', data=data1024_train['Y_train_classname'])\n",
        "    datafile1024.create_dataset('Y_train', data=data1024_train['Y_train'])\n",
        "    \n",
        "    datafile1024.create_dataset('X_dev', data=data1024_dev['X_dev'])\n",
        "    datafile1024.create_dataset('Y_dev_classname', data=data1024_dev['Y_dev_classname'])\n",
        "    datafile1024.create_dataset('Y_dev', data=data1024_dev['Y_dev'])\n",
        "    \n",
        "    datafile1024.create_dataset('X_test', data=data1024_test['X_test'])\n",
        "    datafile1024.create_dataset('Y_test_classname', data=data1024_test['Y_test_classname'])\n",
        "    datafile1024.create_dataset('Y_test', data=data1024_test['Y_test'])"
      ],
      "metadata": {
        "id": "MnsdiI8qQyO5"
      },
      "execution_count": 137,
      "outputs": []
    },
    {
      "cell_type": "code",
      "source": [
        "def augment_test_example(ex, window_size=512, stride=64):\n",
        "    \"\"\"\n",
        "    Augments one dataset example with sliding window approach\n",
        "    \n",
        "    Used with test dataset to create multiple (typically 3) slices from one example\n",
        "    The majority of the predictions on those 3 slices will be considered\n",
        "    \n",
        "    Parameters:\n",
        "    ex: one example from dataset\n",
        "    window_size: sliding window size\n",
        "    stride: sliding window stride\n",
        "    \n",
        "    Returns:\n",
        "    aug_ex: numpy array containing multiple smaller (augmented) examples\n",
        "    \"\"\"\n",
        "    \n",
        "    total_points = ex.shape[0]\n",
        "    aug_ex = None\n",
        "    \n",
        "    # no. of examples generated from single training example using sliding window\n",
        "    # = floor((total_points - window_size) / stride) + 1\n",
        "    iterations = ((total_points - window_size) // stride) + 1\n",
        "\n",
        "    for i in range(iterations):\n",
        "        \n",
        "        # window slice\n",
        "        window_slice_from = i*stride\n",
        "        window_slice_to = i*stride + window_size\n",
        "\n",
        "        try:\n",
        "            aug_ex = np.append(aug_ex, [ex[window_slice_from:window_slice_to]], axis=0)\n",
        "        except:\n",
        "            aug_ex = np.array([ex[window_slice_from:window_slice_to]])\n",
        "    \n",
        "    return aug_ex"
      ],
      "metadata": {
        "id": "mwN9KX_JQyX7"
      },
      "execution_count": 138,
      "outputs": []
    },
    {
      "cell_type": "code",
      "source": [
        "class_map = { 'A': 0, 'B': 0, 'C': 1, 'D': 1, 'E': 2 }\n",
        "\n",
        "def create_test_set_for_voting(testset, window_size=512, stride=64, divisions=2):\n",
        "    \"\"\"\n",
        "    Augments whole test set in a way where each example contains multiple smaller slices\n",
        "    \n",
        "    The augmented dataset created by this function will be used by accuracy for voting measure\n",
        "    Each example is divided into several divisions\n",
        "    Each division consists of multiple slices (smaller examples)\n",
        "    \n",
        "    Parameters:\n",
        "    testset: dictionary containing test examples for each class\n",
        "    window_size: sliding window size\n",
        "    stride: sliding window stride\n",
        "    divisions: number of different examples to create from one example\n",
        "    \n",
        "    Returns:\n",
        "    (new_test_set_X, new_test_set_Y, new_test_set_Y_onehot): numpy array of slices, labels, one-hot labels\n",
        "    \"\"\"\n",
        "    \n",
        "    new_test_set_X = None\n",
        "    new_test_set_Y = []\n",
        "    new_test_set_Y_onehot = None\n",
        "    \n",
        "    no_of_classes = 3\n",
        "    identity = np.eye(no_of_classes)\n",
        "    \n",
        "    # loop over classes\n",
        "    for c,class_data in testset.items():\n",
        "        \n",
        "        # loop over training examples\n",
        "        for ex in class_data:\n",
        "            \n",
        "            for d in range(divisions):\n",
        "                \n",
        "                division_size = ex.shape[0] // divisions\n",
        "            \n",
        "                aug_ex = augment_test_example(ex[d*division_size:(d+1)*division_size], window_size=window_size, stride=stride)\n",
        "                one_hot = identity[class_map[c]]\n",
        "\n",
        "                try:\n",
        "                    new_test_set_X = np.append(new_test_set_X, [aug_ex], axis=0)\n",
        "                    new_test_set_Y_onehot = np.append(new_test_set_Y_onehot, [one_hot], axis=0)\n",
        "                except:\n",
        "                    new_test_set_X = np.array([aug_ex])\n",
        "                    new_test_set_Y_onehot = np.array([one_hot])\n",
        "                new_test_set_Y = np.append(new_test_set_Y, class_map[c])\n",
        "        \n",
        "    return new_test_set_X, new_test_set_Y, new_test_set_Y_onehot"
      ],
      "metadata": {
        "id": "yAC2TiflQ5jJ"
      },
      "execution_count": 139,
      "outputs": []
    },
    {
      "cell_type": "code",
      "source": [
        "test_X_v_512, test_Y_v_512, test_Y_oh_v_512 = create_test_set_for_voting(raw_dataset_test, window_size=512, stride=256, divisions=4)"
      ],
      "metadata": {
        "id": "wYs1jg-bQ5mq"
      },
      "execution_count": 140,
      "outputs": []
    },
    {
      "cell_type": "code",
      "source": [
        "test_X_v_1024, test_Y_v_1024, test_Y_oh_v_1024 = create_test_set_for_voting(raw_dataset_test, window_size=1024, stride=512, divisions=2)"
      ],
      "metadata": {
        "id": "b4IPxJLrQ5qS"
      },
      "execution_count": 141,
      "outputs": []
    },
    {
      "cell_type": "code",
      "source": [
        "print(test_X_v_512.shape)\n",
        "print(test_X_v_1024.shape)"
      ],
      "metadata": {
        "colab": {
          "base_uri": "https://localhost:8080/"
        },
        "id": "UVUuDOCMQ5tw",
        "outputId": "05233f78-2a48-40c8-e21b-bb08fb6e9992"
      },
      "execution_count": 142,
      "outputs": [
        {
          "output_type": "stream",
          "name": "stdout",
          "text": [
            "(100, 3, 512)\n",
            "(50, 3, 1024)\n"
          ]
        }
      ]
    },
    {
      "cell_type": "code",
      "source": [
        "with h5.File(export_to + 'testset_voting_512.h5', 'w') as testset_voting_512:\n",
        "    \n",
        "    testset_voting_512.create_dataset('X', data=test_X_v_512)\n",
        "    testset_voting_512.create_dataset('Y', data=test_Y_v_512)\n",
        "    testset_voting_512.create_dataset('Y_onehot', data=test_Y_oh_v_512)"
      ],
      "metadata": {
        "id": "EbwfwIotRCyz"
      },
      "execution_count": 143,
      "outputs": []
    },
    {
      "cell_type": "code",
      "source": [
        "with h5.File(export_to + 'testset_voting_1024.h5', 'w') as testset_voting_1024:\n",
        "    \n",
        "    testset_voting_1024.create_dataset('X', data=test_X_v_1024)\n",
        "    testset_voting_1024.create_dataset('Y', data=test_Y_v_1024)\n",
        "    testset_voting_1024.create_dataset('Y_onehot', data=test_Y_oh_v_1024)"
      ],
      "metadata": {
        "id": "kjOjJs6RRC2h"
      },
      "execution_count": 144,
      "outputs": []
    },
    {
      "cell_type": "code",
      "source": [
        "import numpy as np\n",
        "import tensorflow as tf\n",
        "import matplotlib.pyplot as plt\n",
        "import h5py as h5\n",
        "from tensorflow.python.framework import ops\n",
        "from os import path\n",
        "import os"
      ],
      "metadata": {
        "id": "dMTcYPv9R9G6"
      },
      "execution_count": 145,
      "outputs": []
    },
    {
      "cell_type": "code",
      "source": [
        "dataset_relative_path = '/content/random-iter-1'"
      ],
      "metadata": {
        "id": "bfQubDysR9PI"
      },
      "execution_count": 146,
      "outputs": []
    },
    {
      "cell_type": "code",
      "source": [
        "\n",
        "datafile ='/content/random-iter-1/datafile1024.h5'"
      ],
      "metadata": {
        "id": "sl-RHeDZR9Sq"
      },
      "execution_count": 147,
      "outputs": []
    },
    {
      "cell_type": "code",
      "source": [
        "with h5.File(datafile, 'r') as datafile:\n",
        "    X_train = np.array(datafile['X_train'])\n",
        "    Y_train = np.array(datafile['Y_train'])\n",
        "    \n",
        "    X_dev = np.array(datafile['X_dev'])\n",
        "    Y_dev = np.array(datafile['Y_dev'])\n",
        "    \n",
        "    X_test = np.array(datafile['X_test'])\n",
        "    Y_test = np.array(datafile['Y_test'])"
      ],
      "metadata": {
        "id": "TcDIsn5mR9WF"
      },
      "execution_count": 148,
      "outputs": []
    },
    {
      "cell_type": "code",
      "source": [
        "def make_dimensions_compatible(arr):\n",
        "    \n",
        "    return arr.reshape(arr.shape[0],-1,1)"
      ],
      "metadata": {
        "id": "dZSD7pZmR9Zx"
      },
      "execution_count": 149,
      "outputs": []
    },
    {
      "cell_type": "code",
      "source": [
        "X_train = make_dimensions_compatible(X_train)\n",
        "X_dev = make_dimensions_compatible(X_dev)\n",
        "X_test = make_dimensions_compatible(X_test)"
      ],
      "metadata": {
        "id": "MyZZ0F9TTWRa"
      },
      "execution_count": 150,
      "outputs": []
    },
    {
      "cell_type": "code",
      "source": [
        "print(X_train.shape)\n",
        "print(Y_train.shape)"
      ],
      "metadata": {
        "colab": {
          "base_uri": "https://localhost:8080/"
        },
        "id": "vffBBlUrTa-L",
        "outputId": "5aebeb67-cd76-4e69-cc0e-f49d8b9bcd8c"
      },
      "execution_count": 151,
      "outputs": [
        {
          "output_type": "stream",
          "name": "stdout",
          "text": [
            "(11250, 1024, 1)\n",
            "(11250, 3)\n"
          ]
        }
      ]
    },
    {
      "cell_type": "code",
      "source": [
        "X_train = X_train / 1000\n",
        "X_dev = X_dev / 1000\n",
        "X_test = X_test / 1000"
      ],
      "metadata": {
        "id": "NwsbKbiMTbl4"
      },
      "execution_count": 152,
      "outputs": []
    },
    {
      "cell_type": "code",
      "source": [
        "def initialize_parameters(parameter_shapes, parameter_values = {}):\n",
        "    \"\"\"\n",
        "    Initializes weight parameters to build a neural network with tensorflow using Xaviar's initialization.\n",
        "    The parameters are:\n",
        "    parameter_shapes: a dictionary where keys represent tensorflow variable names, and values\n",
        "    are shapes of the parameters in a list format\n",
        "    Returns:\n",
        "    params -- a dictionary of tensors containing parameters\n",
        "    \"\"\"\n",
        "    \n",
        "    params = { }\n",
        "    \n",
        "    for n,s in parameter_shapes.items():\n",
        "        param = tf.get_variable(n, s, initializer = tf.contrib.layers.xavier_initializer())\n",
        "        params[n] = param\n",
        "    \n",
        "    for n,v in parameter_values.items():\n",
        "        params[n] = v\n",
        "    \n",
        "    return params"
      ],
      "metadata": {
        "id": "zrIuZw1mTbs_"
      },
      "execution_count": 153,
      "outputs": []
    },
    {
      "cell_type": "code",
      "source": [
        "def forward_propagation_cnn1(X, parameters, training=False):\n",
        "    \"\"\"\n",
        "    Implements the forward propagation for the model:\n",
        "    (CONV BN RELU) -> (CONV BN RELU) -> (CONV BN RELU) -> (FC RELU DROPOUT) -> FC\n",
        "    \n",
        "    Arguments:\n",
        "    X -- input dataset placeholder, of shape (input size, number of examples)\n",
        "    parameters -- python dictionary containing your parameters\n",
        "                  \"CONV1_W\", \"CONV2_W\", \"CONV3_W\", \"FC1_units\", \"DO_prob\", \"output_classes\"\n",
        "                  the shapes are given in initialize_parameters\n",
        "\n",
        "    Returns:\n",
        "    Z3 -- the output of the last LINEAR unit (without softmax)\n",
        "    \"\"\"\n",
        "    \n",
        "    # Retrieve the parameters from the dictionary \"parameters\" \n",
        "    CONV1_W = parameters['CONV1_W']\n",
        "    CONV1_Str = parameters['CONV1_Str']\n",
        "    CONV2_W = parameters['CONV2_W']\n",
        "    CONV2_Str = parameters['CONV2_Str']\n",
        "    CONV3_W = parameters['CONV3_W']\n",
        "    CONV3_Str = parameters['CONV3_Str']\n",
        "    FC1_units = parameters['FC1_units']\n",
        "    DO_prob = parameters['DO_prob']\n",
        "    output_classes = parameters[\"output_classes\"]\n",
        "    \n",
        "    \n",
        "    #Layer 1\n",
        "    # CONV\n",
        "    Z1 = tf.nn.conv1d(X, CONV1_W, stride=CONV1_Str, padding='VALID', data_format='NWC', name='conv1')\n",
        "    # Batch Normalization\n",
        "    B1 = tf.contrib.layers.batch_norm(Z1, is_training=training, updates_collections=None)\n",
        "    # RELU\n",
        "    A1 = tf.nn.relu(B1)\n",
        "    \n",
        "    #Layer 2\n",
        "    # CONV\n",
        "    Z2 = tf.nn.conv1d(A1, CONV2_W, stride=CONV2_Str, padding='VALID', data_format='NWC', name='conv2')\n",
        "    # Batch Normalization\n",
        "    B2 = tf.contrib.layers.batch_norm(Z2, is_training=training, updates_collections=None)\n",
        "    # RELU\n",
        "    A2 = tf.nn.relu(B2)\n",
        "    \n",
        "    #Layer 3\n",
        "    # CONV\n",
        "    Z3 = tf.nn.conv1d(A2, CONV3_W, stride=CONV3_Str, padding='VALID', data_format='NWC', name='conv3')\n",
        "    # Batch Normalization\n",
        "    B3 = tf.contrib.layers.batch_norm(Z3, is_training=training, updates_collections=None)\n",
        "    # RELU\n",
        "    A3 = tf.nn.relu(B3)\n",
        "    \n",
        "    # Flatten activations for FC layer\n",
        "    A3_flat = tf.contrib.layers.flatten(A3)\n",
        "    \n",
        "    # Layer 4\n",
        "    # FC\n",
        "    A4 = tf.contrib.layers.fully_connected(A3_flat, FC1_units, activation_fn=tf.nn.relu)\n",
        "    # Dropout\n",
        "    A4_dropped = tf.contrib.layers.dropout(A4, keep_prob=DO_prob, is_training=training)\n",
        "    \n",
        "    # Layer 5\n",
        "    # FC\n",
        "    logits = tf.contrib.layers.fully_connected(A4_dropped, output_classes, activation_fn=None)\n",
        "    \n",
        "    # Although the cost function we use will have in-built softmax computations,\n",
        "    # for predictions it'll be feasible to have a named tensor\n",
        "    softmax_output = tf.nn.softmax(logits, name='softmax_output')\n",
        "    \n",
        "    return logits, softmax_output\n",
        "    "
      ],
      "metadata": {
        "id": "pvW5C5N7Tu0Z"
      },
      "execution_count": 154,
      "outputs": []
    },
    {
      "cell_type": "code",
      "source": [
        "def forward_propagation_cnn3(X, parameters, training=False):\n",
        "    \"\"\"\n",
        "    Implements the forward propagation for the model:\n",
        "    (CONV BN RELU) -> (CONV BN RELU DROPOUT) -> (CONV BN RELU) -> (FC RELU DROPOUT) -> FC\n",
        "    \n",
        "    Arguments:\n",
        "    X -- input dataset placeholder, of shape (input size, number of examples)\n",
        "    parameters -- python dictionary containing your parameters\n",
        "                  \"CONV1_W\", \"CONV2_W\", \"CONV3_W\", \"FC1_units\", \"DO_prob\", \"output_classes\"\n",
        "                  the shapes are given in initialize_parameters\n",
        "\n",
        "    Returns:\n",
        "    Z3 -- the output of the last LINEAR unit (without softmax)\n",
        "    \"\"\"\n",
        "    \n",
        "    # Retrieve the parameters from the dictionary \"parameters\" \n",
        "    CONV1_W = parameters['CONV1_W']\n",
        "    CONV1_Str = parameters['CONV1_Str']\n",
        "    CONV2_W = parameters['CONV2_W']\n",
        "    CONV2_Str = parameters['CONV2_Str']\n",
        "    DO_prob_middle_layer = parameters['DO_prob_middle_layer']\n",
        "    CONV3_W = parameters['CONV3_W']\n",
        "    CONV3_Str = parameters['CONV3_Str']\n",
        "    FC1_units = parameters['FC1_units']\n",
        "    DO_prob = parameters['DO_prob']\n",
        "    output_classes = parameters[\"output_classes\"]\n",
        "    \n",
        "    \n",
        "    #Layer 1\n",
        "    # CONV\n",
        "    Z1 = tf.nn.conv1d(X, CONV1_W, stride=CONV1_Str, padding='VALID', data_format='NWC', name='conv1')\n",
        "    # Batch Normalization\n",
        "    B1 = tf.contrib.layers.batch_norm(Z1, is_training=training, updates_collections=None)\n",
        "    # RELU\n",
        "    A1 = tf.nn.relu(B1)\n",
        "    \n",
        "    #Layer 2\n",
        "    # CONV\n",
        "    Z2 = tf.nn.conv1d(A1, CONV2_W, stride=CONV2_Str, padding='VALID', data_format='NWC', name='conv2')\n",
        "    # Batch Normalization\n",
        "    B2 = tf.contrib.layers.batch_norm(Z2, is_training=training, updates_collections=None)\n",
        "    # RELU\n",
        "    A2 = tf.nn.relu(B2)\n",
        "    # Dropout\n",
        "    A2_dropped = tf.contrib.layers.dropout(A2, keep_prob=DO_prob_middle_layer, is_training=training)\n",
        "    \n",
        "    #Layer 3\n",
        "    # CONV\n",
        "    Z3 = tf.nn.conv1d(A2_dropped, CONV3_W, stride=CONV3_Str, padding='VALID', data_format='NWC', name='conv3')\n",
        "    # Batch Normalization\n",
        "    B3 = tf.contrib.layers.batch_norm(Z3, is_training=training, updates_collections=None)\n",
        "    # RELU\n",
        "    A3 = tf.nn.relu(B3)\n",
        "    \n",
        "    # Flatten activations for FC layer\n",
        "    A3_flat = tf.contrib.layers.flatten(A3)\n",
        "    \n",
        "    # Layer 4\n",
        "    # FC\n",
        "    A4 = tf.contrib.layers.fully_connected(A3_flat, FC1_units, activation_fn=tf.nn.relu)\n",
        "    # Dropout\n",
        "    A4_dropped = tf.contrib.layers.dropout(A4, keep_prob=DO_prob, is_training=training)\n",
        "    \n",
        "    # Layer 5\n",
        "    # FC\n",
        "    logits = tf.contrib.layers.fully_connected(A4_dropped, output_classes, activation_fn=None)\n",
        "    \n",
        "    # Although the cost function we use will have in-built softmax computations,\n",
        "    # for predictions it'll be feasible to have a named tensor\n",
        "    softmax_output = tf.nn.softmax(logits, name='softmax_output')\n",
        "    \n",
        "    return logits, softmax_output"
      ],
      "metadata": {
        "id": "sgF8gHB1TyVZ"
      },
      "execution_count": 155,
      "outputs": []
    },
    {
      "cell_type": "code",
      "source": [
        "def forward_propagation_cnn8(X, parameters, training=False):\n",
        "    \"\"\"\n",
        "    Implements the forward propagation for the model:\n",
        "    (CONV BN RELU) -> (CONV BN RELU) -> (FC RELU DROPOUT) -> FC\n",
        "    \n",
        "    Arguments:\n",
        "    X -- input dataset placeholder, of shape (input size, number of examples)\n",
        "    parameters -- python dictionary containing your parameters\n",
        "                  \"CONV1_W\", \"CONV2_W\", \"CONV3_W\", \"FC1_units\", \"DO_prob\", \"output_classes\"\n",
        "                  the shapes are given in initialize_parameters\n",
        "\n",
        "    Returns:\n",
        "    Z3 -- the output of the last LINEAR unit (without softmax)\n",
        "    \"\"\"\n",
        "    \n",
        "    # Retrieve the parameters from the dictionary \"parameters\" \n",
        "    CONV1_W = parameters['CONV1_W']\n",
        "    CONV1_Str = parameters['CONV1_Str']\n",
        "    CONV2_W = parameters['CONV2_W']\n",
        "    CONV2_Str = parameters['CONV2_Str']\n",
        "    DO_prob_middle_layer = parameters['DO_prob_middle_layer']\n",
        "    FC1_units = parameters['FC1_units']\n",
        "    DO_prob = parameters['DO_prob']\n",
        "    output_classes = parameters[\"output_classes\"]\n",
        "    \n",
        "    \n",
        "    #Layer 1\n",
        "    # CONV\n",
        "    Z1 = tf.nn.conv1d(X, CONV1_W, stride=CONV1_Str, padding='VALID', data_format='NWC', name='conv1')\n",
        "    # Batch Normalization\n",
        "    B1 = tf.contrib.layers.batch_norm(Z1, is_training=training, updates_collections=None)\n",
        "    # RELU\n",
        "    A1 = tf.nn.relu(B1)\n",
        "    \n",
        "    #Layer 2\n",
        "    # CONV\n",
        "    Z2 = tf.nn.conv1d(A1, CONV2_W, stride=CONV2_Str, padding='VALID', data_format='NWC', name='conv2')\n",
        "    # Batch Normalization\n",
        "    B2 = tf.contrib.layers.batch_norm(Z2, is_training=training, updates_collections=None)\n",
        "    # RELU\n",
        "    A2 = tf.nn.relu(B2)\n",
        "    \n",
        "    # Flatten activations for FC layer\n",
        "    A2_flat = tf.contrib.layers.flatten(A2)\n",
        "    \n",
        "    # Layer 3\n",
        "    # FC\n",
        "    A3 = tf.contrib.layers.fully_connected(A2_flat, FC1_units, activation_fn=tf.nn.relu)\n",
        "    # Dropout\n",
        "    A3_dropped = tf.contrib.layers.dropout(A3, keep_prob=DO_prob, is_training=training)\n",
        "    \n",
        "    # Layer 4\n",
        "    # FC\n",
        "    logits = tf.contrib.layers.fully_connected(A3_dropped, output_classes, activation_fn=None)\n",
        "    \n",
        "    # Although the cost function we use will have in-built softmax computations,\n",
        "    # for predictions it'll be feasible to have a named tensor\n",
        "    softmax_output = tf.nn.softmax(logits, name='softmax_output')\n",
        "    \n",
        "    return logits, softmax_output"
      ],
      "metadata": {
        "id": "HkAVcr9BTyY7"
      },
      "execution_count": 156,
      "outputs": []
    },
    {
      "cell_type": "code",
      "source": [
        "def compute_cost(X, Y, parameters, nn_key, training):\n",
        "    \n",
        "    \"\"\"\n",
        "    Apply softmax to the output classes and find cross entropy loss\n",
        "    X - Input data\n",
        "    Y - One-hot output class training labels\n",
        "    \n",
        "    Returns:\n",
        "    cost - cross entropy loss\n",
        "    \"\"\"\n",
        "    \n",
        "    # FIXME: setting training=training causes problems during evaluation time\n",
        "    if nn_key == 'cnn1':\n",
        "        logits, Y_hat = forward_propagation_cnn1(X, parameters, training=training)\n",
        "    elif nn_key == 'cnn2':\n",
        "        logits, Y_hat = forward_propagation_cnn1(X, parameters, training=training)\n",
        "    elif nn_key == 'cnn3':\n",
        "        logits, Y_hat = forward_propagation_cnn3(X, parameters, training=training)\n",
        "    elif nn_key == 'cnn4':\n",
        "        logits, Y_hat = forward_propagation_cnn1(X, parameters, training=training)\n",
        "    elif nn_key == 'cnn5':\n",
        "        logits, Y_hat = forward_propagation_cnn8(X, parameters, training=training)\n",
        "    elif nn_key == 'cnn6':\n",
        "        logits, Y_hat = forward_propagation_cnn8(X, parameters, training=training)\n",
        "    elif nn_key == 'cnn7':\n",
        "        logits, Y_hat = forward_propagation_cnn8(X, parameters, training=training)\n",
        "    elif nn_key == 'cnn8':\n",
        "        logits, Y_hat = forward_propagation_cnn8(X, parameters, training=training)\n",
        "    else:\n",
        "        KeyError('Provided nn_key doesn\\'t match with any model')\n",
        "    \n",
        "    cost = tf.reduce_mean(tf.nn.softmax_cross_entropy_with_logits_v2(logits=logits, labels=Y))\n",
        "    \n",
        "    return cost, Y_hat"
      ],
      "metadata": {
        "id": "s-KO_G9VTyk5"
      },
      "execution_count": 157,
      "outputs": []
    },
    {
      "cell_type": "code",
      "source": [
        "def create_placeholders(n_x, n_y):\n",
        "    \"\"\"\n",
        "    Creates Tensorflow placeholders that act for input data and their labels\n",
        "    \n",
        "    Arguments:\n",
        "    n_x - no. of features for X\n",
        "    n_x - no. of classes for Y\n",
        "    \n",
        "    Returns:\n",
        "    X - placeholder for data that contains input featurs,\n",
        "        shape: (no. of examples, no. of features). No. of examples is set to None\n",
        "    Y - placeholder for data that contains output class labels,\n",
        "        shape (no. of examples, no. of classes). No. of examples is set ot None\n",
        "    \"\"\"\n",
        "    \n",
        "    X = tf.placeholder(tf.float32, name='X', shape=(None, n_x, 1))\n",
        "    Y = tf.placeholder(tf.float32, name='Y', shape=(None, n_y))\n",
        "    is_train = tf.placeholder(tf.bool, name='is_train')\n",
        "    \n",
        "    return X,Y,is_train"
      ],
      "metadata": {
        "id": "ZK54bKy8UCsR"
      },
      "execution_count": 158,
      "outputs": []
    },
    {
      "cell_type": "code",
      "source": [
        "def parameter_shapes(nn_key):\n",
        "    \"\"\"\n",
        "    Get tha shapes of all parameters used in the model.\n",
        "    Convolutional layer parameter shapes (filters) are in list format\n",
        "    \n",
        "    Arguments:\n",
        "    nn_key - Provide the key for the neural network model used\n",
        "    could be, 'cnn1', 'cnn2'\n",
        "    \n",
        "    Returns:\n",
        "    param_shapes - dict that contains all the parameters as follows\n",
        "    CONV1_W, CONV2_W, CONV3_W\n",
        "    param_values:\n",
        "    CONV1_Str, CONV2_Str, CONV3_Str,\n",
        "    FC1_units, DO_prob, output_classes\n",
        "    \"\"\"\n",
        "    \n",
        "    param_shapes = {}\n",
        "    param_values = {}\n",
        "    \n",
        "    do_prob = {\n",
        "        'cnn1': 0.5,\n",
        "        'cnn2': 0.3,\n",
        "        'cnn3': 0.3,\n",
        "        'cnn4': 0.9,\n",
        "        'cnn5': 0.5,\n",
        "        'cnn6': 0.7,\n",
        "        'cnn7': 0.3,\n",
        "        'cnn8': 0.3\n",
        "    }\n",
        "    \n",
        "    do_prob_middle_layer = {\n",
        "        'cnn1': 0,   # not used\n",
        "        'cnn2': 0,   # not used\n",
        "        'cnn3': 0.8,\n",
        "        'cnn4': 0,   # not used\n",
        "        'cnn5': 0,   # not used\n",
        "        'cnn6': 0,   # not used\n",
        "        'cnn7': 0,   # not used\n",
        "        'cnn8': 0    # not used\n",
        "    }\n",
        "    \n",
        "    fc1_units = {\n",
        "        'cnn1': 20,\n",
        "        'cnn2': 15,\n",
        "        'cnn3': 15,\n",
        "        'cnn4': 15,\n",
        "        'cnn5': 20,\n",
        "        'cnn6': 15,\n",
        "        'cnn7': 15,\n",
        "        'cnn8': 10\n",
        "    }\n",
        "\n",
        "    # Conv Layer 1 parameter shapes\n",
        "    # No. of channels: 24, Filter size: 5, Stride: 3\n",
        "    param_shapes['CONV1_W'] = [5, 1, 24]\n",
        "    param_values['CONV1_Str'] = 3\n",
        "    \n",
        "    # Conv Layer 2 parameter shapes\n",
        "    # No. of channels: 16, Filter size: 3, Stride: 2\n",
        "    param_shapes['CONV2_W'] = [3, 24, 16]\n",
        "    param_values['CONV2_Str'] = 2\n",
        "    \n",
        "    # Dropout after the convolutional layer 2\n",
        "    # Not used in some cases\n",
        "    param_values['DO_prob_middle_layer'] = do_prob_middle_layer[nn_key]\n",
        "    \n",
        "    # Conv Layer 3 parameter shapes\n",
        "    # No. of channels: 8, Filter size: 3, Stride: 2\n",
        "    param_shapes['CONV3_W'] = [3, 16, 8]\n",
        "    param_values['CONV3_Str'] = 2\n",
        "    \n",
        "    # Fully connected layer 1 units = 20\n",
        "    param_values['FC1_units'] = fc1_units[nn_key]\n",
        "    \n",
        "    # Dropout layer after fully connected layer 1 probability\n",
        "    param_values['DO_prob'] = do_prob[nn_key]\n",
        "    \n",
        "    # Fully connected layer 2 units (also last layer)\n",
        "    # No. of units = no. of output classes = 3\n",
        "    param_values['output_classes'] = 3\n",
        "    \n",
        "    return param_shapes, param_values"
      ],
      "metadata": {
        "id": "12hDc3o4UCvZ"
      },
      "execution_count": 159,
      "outputs": []
    },
    {
      "cell_type": "code",
      "source": [
        "def random_mini_batches(X, Y, mini_batch_size = 64):\n",
        "    \"\"\"\n",
        "    Creates a list of random minibatches from (X, Y)\n",
        "    \n",
        "    Arguments:\n",
        "    X -- input data, of shape (number of examples, window size) (m, n_x)\n",
        "    Y -- output classes, of shape (number of examples, output classes) (m, n_y)\n",
        "    mini_batch_size - size of the mini-batches, integer\n",
        "    Returns:\n",
        "    mini_batches -- list of synchronous (mini_batch_X, mini_batch_Y)\n",
        "    \"\"\"\n",
        "    \n",
        "    m = X.shape[0]                  # number of training examples\n",
        "    mini_batches = []\n",
        "    \n",
        "    # Step 1: Shuffle (X, Y)\n",
        "    permutation = list(np.random.permutation(m))\n",
        "    shuffled_X = X[permutation,:,:]\n",
        "    shuffled_Y = Y[permutation,:]\n",
        "\n",
        "    # Step 2: Partition (shuffled_X, shuffled_Y). Minus the end case.\n",
        "    num_complete_minibatches = np.floor(m/mini_batch_size).astype(int) # number of mini batches of size mini_batch_size in your partitionning\n",
        "    for k in range(0, num_complete_minibatches):\n",
        "        mini_batch_X = shuffled_X[k * mini_batch_size : k * mini_batch_size + mini_batch_size,:,:]\n",
        "        mini_batch_Y = shuffled_Y[k * mini_batch_size : k * mini_batch_size + mini_batch_size,:]\n",
        "        mini_batch = (mini_batch_X, mini_batch_Y)\n",
        "        mini_batches.append(mini_batch)\n",
        "    \n",
        "    # Handling the end case (last mini-batch < mini_batch_size)\n",
        "    if m % mini_batch_size != 0:\n",
        "        mini_batch_X = shuffled_X[num_complete_minibatches * mini_batch_size : m,:,:]\n",
        "        mini_batch_Y = shuffled_Y[num_complete_minibatches * mini_batch_size : m,:]\n",
        "        mini_batch = (mini_batch_X, mini_batch_Y)\n",
        "        mini_batches.append(mini_batch)\n",
        "    \n",
        "    return mini_batches"
      ],
      "metadata": {
        "id": "TvBo1BG4UCyX"
      },
      "execution_count": 160,
      "outputs": []
    },
    {
      "cell_type": "code",
      "source": [
        "def plot_costs(costs, dev_costs, learning_rate, total_epochs):\n",
        "    # plot the cost\n",
        "    plt.plot(costs, color='blue', label='training')\n",
        "    plt.plot(dev_costs, color='green', label='dev')\n",
        "    plt.ylabel('cost')\n",
        "    plt.xlabel('iterations')\n",
        "    plt.title(\"Learning rate = %f\\nTotal Epochs = %i\" % (learning_rate, total_epochs))\n",
        "    plt.legend()\n",
        "    plt.show()"
      ],
      "metadata": {
        "id": "1g2pstDAUC1T"
      },
      "execution_count": 161,
      "outputs": []
    },
    {
      "cell_type": "code",
      "source": [
        "def model(X_train, Y_train, X_dev, Y_dev,\n",
        "          learning_rate = 0.009, num_epochs = 100, minibatch_size = 64, print_cost = True,\n",
        "          save_session_path=None, model_file=None, restore_session=False, save_session_interval=5, max_to_keep=10,\n",
        "          nn_key='cnn1'):\n",
        "    \"\"\"\n",
        "    \n",
        "    Arguments:\n",
        "    X_train -- training set, of shape (None, 64, 64, 3)\n",
        "    Y_train -- test set, of shape (None, n_y = 6)\n",
        "    X_test -- training set, of shape (None, 64, 64, 3)\n",
        "    Y_test -- test set, of shape (None, n_y = 6)\n",
        "    learning_rate -- learning rate of the optimization\n",
        "    num_epochs -- number of epochs of the optimization loop\n",
        "    minibatch_size -- size of a minibatch\n",
        "    print_cost -- True to print the cost every 100 epochs\n",
        "    restore_session -- load previously trained model whose path is derived from save_session_path and model_file\n",
        "    max_to_keep -- no. of models to be saved\n",
        "    nn_key -- can be one of cnn1, cnn2, cnn3 ... cnn8 (or the keys described in the literature)\n",
        "    \n",
        "    Returns:\n",
        "    train_accuracy -- real number, accuracy on the train set (X_train)\n",
        "    test_accuracy -- real number, testing accuracy on the test set (X_test)\n",
        "    parameters -- parameters learnt by the model. They can then be used to predict.\n",
        "    \"\"\"\n",
        "    \n",
        "    ops.reset_default_graph()                         # to be able to rerun the model without overwriting tf variables\n",
        "    (m, n_x,_) = X_train.shape             \n",
        "    n_y = Y_train.shape[1]                            \n",
        "    costs = []                                        # To keep track of the cost\n",
        "    dev_costs = []\n",
        "    \n",
        "    model_path = None\n",
        "    if (save_session_path != None and model_file != None):\n",
        "        model_path = save_session_path + model_file\n",
        "    \n",
        "    \n",
        "    # Create Placeholders of the correct shape\n",
        "    X, Y, is_train = create_placeholders(n_x, n_y)\n",
        "\n",
        "    # Initialize parameters\n",
        "    param_shapes, param_values = parameter_shapes(nn_key)\n",
        "    parameters = initialize_parameters(param_shapes, param_values)\n",
        "    \n",
        "    # Forward propagation: Build the forward propagation in the tensorflow graph\n",
        "    # Prediction: Use Y_hat to compute the output class during prediction\n",
        "    cost, Y_hat = compute_cost(X, Y, parameters, nn_key, is_train)\n",
        "    \n",
        "    # Backpropagation: Define the tensorflow optimizer. Use an AdamOptimizer that minimizes the cost.\n",
        "    optimizer = tf.train.AdamOptimizer(learning_rate=learning_rate).minimize(cost)\n",
        "    # optimizer = tf.train.RMSPropOptimizer(learning_rate=learning_rate).minimize(cost)\n",
        "    \n",
        "    # For saving / restoring sesison when training for long\n",
        "    epoch_counter = tf.get_variable('epoch_counter', shape=[], initializer=tf.zeros_initializer)\n",
        "    counter_op = tf.assign_add(epoch_counter, 1)\n",
        "    saver = tf.train.Saver(max_to_keep=max_to_keep)\n",
        "    \n",
        "    # Calculate the correct predictions\n",
        "    predict_op = tf.argmax(Y_hat, 1)\n",
        "    correct_prediction = tf.equal(predict_op, tf.argmax(Y, 1))\n",
        "\n",
        "    # Calculate accuracy on the test set\n",
        "    accuracy = tf.reduce_mean(tf.cast(correct_prediction, \"float\"))\n",
        "    \n",
        "    # For impementation of batch norm the tf.GraphKeys.UPDATE_OPS dependency needs to be added\n",
        "    # see documentation on tf.contrib.layers.batch_norm\n",
        "#     update_ops = tf.get_collection(tf.GraphKeys.UPDATE_OPS)\n",
        "    \n",
        "    # Initialize all the variables globally\n",
        "    init = tf.global_variables_initializer()\n",
        "     \n",
        "    # Start the session to compute the tensorflow graph\n",
        "    with tf.Session() as sess: #, tf.control_dependencies(update_ops):\n",
        "        \n",
        "        if (restore_session == False and path.exists(save_session_path)):\n",
        "            raise FileExistsError('Session already exists, either restore the session, or manually delete the files.')\n",
        "        \n",
        "        # restore the previous session if the path already exists\n",
        "        if (model_path != None and restore_session==True):\n",
        "            print(\"Restoring session...\\n\")\n",
        "            saver.restore(sess, model_path)\n",
        "            print(\"Previous epoch counter: %i\\n\\n\" % epoch_counter.eval())\n",
        "        else:\n",
        "            sess.run(init)\n",
        "        \n",
        "        tf.train.export_meta_graph(model_path + '.meta') # save the model file (.meta) only once\n",
        "        \n",
        "        print(\"Cost at start: %f\" % cost.eval({X: X_train, Y: Y_train, is_train: False}))\n",
        "        print(\"Dev cost: %f\" % cost.eval({X: X_dev, Y: Y_dev, is_train: False}))\n",
        "        \n",
        "        train_accuracy = accuracy.eval({X: X_train, Y: Y_train, is_train: False})\n",
        "        dev_accuracy = accuracy.eval({X: X_dev, Y: Y_dev, is_train: False})\n",
        "        print(\"Train Accuracy:\", train_accuracy)\n",
        "        print(\"Dev Accuracy:\", dev_accuracy)\n",
        "        \n",
        "        # Do the training loop\n",
        "        for epoch in range(num_epochs):\n",
        "\n",
        "            epoch_cost = 0.\n",
        "            num_minibatches = int(m / minibatch_size) # number of minibatches of size minibatch_size in the train set\n",
        "            minibatches = random_mini_batches(X_train, Y_train, minibatch_size)\n",
        "\n",
        "            for minibatch in minibatches:\n",
        "                \n",
        "                try:\n",
        "\n",
        "                    # Select a minibatch\n",
        "                    (minibatch_X, minibatch_Y) = minibatch\n",
        "\n",
        "                    # IMPORTANT: The line that runs the graph on a minibatch.\n",
        "                    # Run the session to execute the optimizer and the cost, the feedict should contain a minibatch for (X,Y).\n",
        "                    _,minibatch_cost = sess.run([optimizer, cost], feed_dict={X: minibatch_X, Y: minibatch_Y, is_train: True})\n",
        "\n",
        "                    epoch_cost += minibatch_cost / num_minibatches\n",
        "                \n",
        "                # Implement early stopping mechanism on KeyboardInterrupt\n",
        "                except KeyboardInterrupt:\n",
        "                    print(\"KeyboardInterrupt received. Stopping early\")\n",
        "                    plot_costs(np.squeeze(costs), np.squeeze(dev_costs), learning_rate, epoch_counter.eval())\n",
        "                    return parameters\n",
        "                \n",
        "            \n",
        "            if (epoch % save_session_interval == 0 and save_session_path != None):\n",
        "                saver.save(sess, model_path, write_meta_graph=False)\n",
        "            \n",
        "            # Save the costs after each epoch for plotting learning curve\n",
        "            if print_cost == True and epoch % 1 == 0:\n",
        "                costs.append(epoch_cost)\n",
        "                dev_cost = cost.eval({X: X_dev, Y: Y_dev, is_train: False})\n",
        "                dev_costs.append(dev_cost)\n",
        "                \n",
        "                \n",
        "            # Print the cost every epoch\n",
        "            if print_cost == True and (epoch + 1) % 5 == 0:\n",
        "                print (\"\\nCost after epoch %i: %f\" % (epoch + 1, epoch_cost))\n",
        "                print (\"Dev cost after epoch %i: %f\" % (epoch + 1, dev_cost))\n",
        "                \n",
        "                train_accuracy = accuracy.eval({X: X_train, Y: Y_train, is_train: False})\n",
        "                dev_accuracy = accuracy.eval({X: X_dev, Y: Y_dev, is_train: False})\n",
        "                print(\"Train Accuracy:\", train_accuracy)\n",
        "                print(\"Dev Accuracy:\", dev_accuracy)\n",
        "            \n",
        "            # increment the epoch_counter in case the session is saved\n",
        "            # and restored later\n",
        "            sess.run(counter_op)\n",
        "                \n",
        "                \n",
        "        if (save_session_path != None):\n",
        "            saver.save(sess, model_path, write_meta_graph=False)\n",
        "        \n",
        "        \n",
        "        plot_costs(np.squeeze(costs), np.squeeze(dev_costs), learning_rate, epoch_counter.eval())\n",
        "\n",
        "        # Calculate the correct predictions\n",
        "        train_accuracy = accuracy.eval({X: X_train, Y: Y_train, is_train: False})\n",
        "        dev_accuracy = accuracy.eval({X: X_dev, Y: Y_dev, is_train: False})\n",
        "        print(\"Train Accuracy:\", train_accuracy)\n",
        "        print(\"Dev Accuracy:\", dev_accuracy)\n",
        "                \n",
        "        return parameters"
      ],
      "metadata": {
        "id": "D9TDyGTOUC4R"
      },
      "execution_count": 162,
      "outputs": []
    },
    {
      "cell_type": "code",
      "source": [
        "!pip install tensorflow==1.15.2\n",
        "\n"
      ],
      "metadata": {
        "colab": {
          "base_uri": "https://localhost:8080/"
        },
        "id": "epJ6sdwUU3XP",
        "outputId": "9c448eb5-636c-4092-9843-023c5178e968"
      },
      "execution_count": 163,
      "outputs": [
        {
          "output_type": "stream",
          "name": "stdout",
          "text": [
            "Looking in indexes: https://pypi.org/simple, https://us-python.pkg.dev/colab-wheels/public/simple/\n",
            "Requirement already satisfied: tensorflow==1.15.2 in /tensorflow-1.15.2/python3.7 (1.15.2)\n",
            "Requirement already satisfied: protobuf>=3.6.1 in /usr/local/lib/python3.7/dist-packages (from tensorflow==1.15.2) (3.17.3)\n",
            "Requirement already satisfied: tensorboard<1.16.0,>=1.15.0 in /tensorflow-1.15.2/python3.7 (from tensorflow==1.15.2) (1.15.0)\n",
            "Requirement already satisfied: keras-applications>=1.0.8 in /tensorflow-1.15.2/python3.7 (from tensorflow==1.15.2) (1.0.8)\n",
            "Requirement already satisfied: six>=1.10.0 in /usr/local/lib/python3.7/dist-packages (from tensorflow==1.15.2) (1.15.0)\n",
            "Requirement already satisfied: keras-preprocessing>=1.0.5 in /usr/local/lib/python3.7/dist-packages (from tensorflow==1.15.2) (1.1.2)\n",
            "Requirement already satisfied: gast==0.2.2 in /usr/local/lib/python3.7/dist-packages (from tensorflow==1.15.2) (0.2.2)\n",
            "Requirement already satisfied: absl-py>=0.7.0 in /usr/local/lib/python3.7/dist-packages (from tensorflow==1.15.2) (1.0.0)\n",
            "Requirement already satisfied: tensorflow-estimator==1.15.1 in /tensorflow-1.15.2/python3.7 (from tensorflow==1.15.2) (1.15.1)\n",
            "Requirement already satisfied: wrapt>=1.11.1 in /usr/local/lib/python3.7/dist-packages (from tensorflow==1.15.2) (1.14.1)\n",
            "Requirement already satisfied: google-pasta>=0.1.6 in /usr/local/lib/python3.7/dist-packages (from tensorflow==1.15.2) (0.2.0)\n",
            "Requirement already satisfied: opt-einsum>=2.3.2 in /usr/local/lib/python3.7/dist-packages (from tensorflow==1.15.2) (3.3.0)\n",
            "Requirement already satisfied: numpy<2.0,>=1.16.0 in /usr/local/lib/python3.7/dist-packages (from tensorflow==1.15.2) (1.21.6)\n",
            "Requirement already satisfied: astor>=0.6.0 in /usr/local/lib/python3.7/dist-packages (from tensorflow==1.15.2) (0.8.1)\n",
            "Requirement already satisfied: termcolor>=1.1.0 in /usr/local/lib/python3.7/dist-packages (from tensorflow==1.15.2) (1.1.0)\n",
            "Requirement already satisfied: grpcio>=1.8.6 in /usr/local/lib/python3.7/dist-packages (from tensorflow==1.15.2) (1.46.3)\n",
            "Requirement already satisfied: wheel>=0.26 in /usr/local/lib/python3.7/dist-packages (from tensorflow==1.15.2) (0.37.1)\n",
            "Requirement already satisfied: h5py in /usr/local/lib/python3.7/dist-packages (from keras-applications>=1.0.8->tensorflow==1.15.2) (3.1.0)\n",
            "Requirement already satisfied: setuptools>=41.0.0 in /usr/local/lib/python3.7/dist-packages (from tensorboard<1.16.0,>=1.15.0->tensorflow==1.15.2) (57.4.0)\n",
            "Requirement already satisfied: werkzeug>=0.11.15 in /usr/local/lib/python3.7/dist-packages (from tensorboard<1.16.0,>=1.15.0->tensorflow==1.15.2) (1.0.1)\n",
            "Requirement already satisfied: markdown>=2.6.8 in /usr/local/lib/python3.7/dist-packages (from tensorboard<1.16.0,>=1.15.0->tensorflow==1.15.2) (3.3.7)\n",
            "Requirement already satisfied: importlib-metadata>=4.4 in /usr/local/lib/python3.7/dist-packages (from markdown>=2.6.8->tensorboard<1.16.0,>=1.15.0->tensorflow==1.15.2) (4.11.4)\n",
            "Requirement already satisfied: zipp>=0.5 in /usr/local/lib/python3.7/dist-packages (from importlib-metadata>=4.4->markdown>=2.6.8->tensorboard<1.16.0,>=1.15.0->tensorflow==1.15.2) (3.8.0)\n",
            "Requirement already satisfied: typing-extensions>=3.6.4 in /usr/local/lib/python3.7/dist-packages (from importlib-metadata>=4.4->markdown>=2.6.8->tensorboard<1.16.0,>=1.15.0->tensorflow==1.15.2) (4.2.0)\n",
            "Requirement already satisfied: cached-property in /usr/local/lib/python3.7/dist-packages (from h5py->keras-applications>=1.0.8->tensorflow==1.15.2) (1.5.2)\n"
          ]
        }
      ]
    },
    {
      "cell_type": "code",
      "source": [
        "\n",
        "%tensorflow_version 1.x"
      ],
      "metadata": {
        "id": "eaekdAqKYeqA"
      },
      "execution_count": 164,
      "outputs": []
    },
    {
      "cell_type": "code",
      "source": [
        "%tensorflow_version 1.x\n",
        "parameters = model(X_train, Y_train, X_dev, Y_dev,\n",
        "                   learning_rate=0.00002,\n",
        "                   num_epochs=500,\n",
        "                   minibatch_size=128,\n",
        "                   save_session_path='train/dataset-512-1/cnn8_lr-0.00002_mbs-128/',\n",
        "                   model_file='model',\n",
        "                   restore_session=False,\n",
        "                   save_session_interval=10,\n",
        "                   nn_key='cnn8')"
      ],
      "metadata": {
        "id": "v2XfP5CooUXw"
      },
      "execution_count": null,
      "outputs": []
    },
    {
      "cell_type": "code",
      "source": [
        "%tensorflow_version 1.x\n",
        "parameters = model(X_train, Y_train, X_dev, Y_dev,\n",
        "                   learning_rate=0.00002,\n",
        "                   num_epochs=1000,\n",
        "                   minibatch_size=128,\n",
        "                   save_session_path='train/dataset-1024-1/cnn8_lr-0.00002_mbs-128/',\n",
        "                   model_file='model',\n",
        "                   restore_session=False,\n",
        "                   save_session_interval=10,\n",
        "                   nn_key='cnn8')"
      ],
      "metadata": {
        "colab": {
          "base_uri": "https://localhost:8080/",
          "height": 1000
        },
        "id": "g4YXbeKnUUFJ",
        "outputId": "bf98f66b-ea15-44dd-f62f-491fadf18e06"
      },
      "execution_count": 228,
      "outputs": [
        {
          "output_type": "stream",
          "name": "stdout",
          "text": [
            "Cost at start: 1.101117\n",
            "Dev cost: 1.102778\n",
            "Train Accuracy: 0.36906666\n",
            "Dev Accuracy: 0.32\n",
            "\n",
            "Cost after epoch 5: 1.001394\n",
            "Dev cost after epoch 5: 1.034790\n",
            "Train Accuracy: 0.45733333\n",
            "Dev Accuracy: 0.4342857\n",
            "\n",
            "Cost after epoch 10: 0.932019\n",
            "Dev cost after epoch 10: 0.990203\n",
            "Train Accuracy: 0.43173334\n",
            "Dev Accuracy: 0.41142857\n",
            "\n",
            "Cost after epoch 15: 0.857952\n",
            "Dev cost after epoch 15: 0.961278\n",
            "Train Accuracy: 0.47324446\n",
            "Dev Accuracy: 0.44\n",
            "\n",
            "Cost after epoch 20: 0.807979\n",
            "Dev cost after epoch 20: 0.949053\n",
            "Train Accuracy: 0.40684444\n",
            "Dev Accuracy: 0.41714287\n",
            "\n",
            "Cost after epoch 25: 0.771128\n",
            "Dev cost after epoch 25: 0.936670\n",
            "Train Accuracy: 0.40586665\n",
            "Dev Accuracy: 0.42285714\n",
            "\n",
            "Cost after epoch 30: 0.738760\n",
            "Dev cost after epoch 30: 0.908887\n",
            "Train Accuracy: 0.4200889\n",
            "Dev Accuracy: 0.45714286\n",
            "\n",
            "Cost after epoch 35: 0.726531\n",
            "Dev cost after epoch 35: 0.879585\n",
            "Train Accuracy: 0.4432889\n",
            "Dev Accuracy: 0.4857143\n",
            "\n",
            "Cost after epoch 40: 0.717383\n",
            "Dev cost after epoch 40: 0.828723\n",
            "Train Accuracy: 0.50195557\n",
            "Dev Accuracy: 0.50857145\n",
            "\n",
            "Cost after epoch 45: 0.707241\n",
            "Dev cost after epoch 45: 0.788243\n",
            "Train Accuracy: 0.57155555\n",
            "Dev Accuracy: 0.52\n",
            "\n",
            "Cost after epoch 50: 0.707123\n",
            "Dev cost after epoch 50: 0.745089\n",
            "Train Accuracy: 0.64302224\n",
            "Dev Accuracy: 0.52\n",
            "\n",
            "Cost after epoch 55: 0.684734\n",
            "Dev cost after epoch 55: 0.704753\n",
            "Train Accuracy: 0.6992889\n",
            "Dev Accuracy: 0.58285713\n",
            "\n",
            "Cost after epoch 60: 0.682720\n",
            "Dev cost after epoch 60: 0.640570\n",
            "Train Accuracy: 0.7479111\n",
            "Dev Accuracy: 0.61714286\n",
            "\n",
            "Cost after epoch 65: 0.674330\n",
            "Dev cost after epoch 65: 0.596079\n",
            "Train Accuracy: 0.77253336\n",
            "Dev Accuracy: 0.6457143\n",
            "\n",
            "Cost after epoch 70: 0.662000\n",
            "Dev cost after epoch 70: 0.528398\n",
            "Train Accuracy: 0.81093335\n",
            "Dev Accuracy: 0.7714286\n",
            "\n",
            "Cost after epoch 75: 0.664535\n",
            "Dev cost after epoch 75: 0.486291\n",
            "Train Accuracy: 0.83066666\n",
            "Dev Accuracy: 0.85714287\n",
            "\n",
            "Cost after epoch 80: 0.667950\n",
            "Dev cost after epoch 80: 0.440367\n",
            "Train Accuracy: 0.8552\n",
            "Dev Accuracy: 0.92\n",
            "\n",
            "Cost after epoch 85: 0.658427\n",
            "Dev cost after epoch 85: 0.416068\n",
            "Train Accuracy: 0.8645333\n",
            "Dev Accuracy: 0.93142855\n",
            "\n",
            "Cost after epoch 90: 0.652740\n",
            "Dev cost after epoch 90: 0.397402\n",
            "Train Accuracy: 0.8729778\n",
            "Dev Accuracy: 0.94857144\n",
            "\n",
            "Cost after epoch 95: 0.639573\n",
            "Dev cost after epoch 95: 0.376984\n",
            "Train Accuracy: 0.87964445\n",
            "Dev Accuracy: 0.94857144\n",
            "\n",
            "Cost after epoch 100: 0.653730\n",
            "Dev cost after epoch 100: 0.376988\n",
            "Train Accuracy: 0.8824889\n",
            "Dev Accuracy: 0.94857144\n",
            "\n",
            "Cost after epoch 105: 0.644092\n",
            "Dev cost after epoch 105: 0.363787\n",
            "Train Accuracy: 0.88373333\n",
            "Dev Accuracy: 0.95428574\n",
            "\n",
            "Cost after epoch 110: 0.645572\n",
            "Dev cost after epoch 110: 0.361791\n",
            "Train Accuracy: 0.8848\n",
            "Dev Accuracy: 0.95428574\n",
            "\n",
            "Cost after epoch 115: 0.605141\n",
            "Dev cost after epoch 115: 0.338933\n",
            "Train Accuracy: 0.8848\n",
            "Dev Accuracy: 0.95428574\n",
            "\n",
            "Cost after epoch 120: 0.594585\n",
            "Dev cost after epoch 120: 0.332284\n",
            "Train Accuracy: 0.88666666\n",
            "Dev Accuracy: 0.95428574\n",
            "\n",
            "Cost after epoch 125: 0.594906\n",
            "Dev cost after epoch 125: 0.326787\n",
            "Train Accuracy: 0.8890667\n",
            "Dev Accuracy: 0.95428574\n",
            "\n",
            "Cost after epoch 130: 0.591713\n",
            "Dev cost after epoch 130: 0.317927\n",
            "Train Accuracy: 0.89235556\n",
            "Dev Accuracy: 0.94285715\n",
            "\n",
            "Cost after epoch 135: 0.586158\n",
            "Dev cost after epoch 135: 0.318960\n",
            "Train Accuracy: 0.8937778\n",
            "Dev Accuracy: 0.94857144\n",
            "\n",
            "Cost after epoch 140: 0.585953\n",
            "Dev cost after epoch 140: 0.310495\n",
            "Train Accuracy: 0.89617777\n",
            "Dev Accuracy: 0.94285715\n",
            "\n",
            "Cost after epoch 145: 0.583831\n",
            "Dev cost after epoch 145: 0.312578\n",
            "Train Accuracy: 0.8968\n",
            "Dev Accuracy: 0.94857144\n",
            "\n",
            "Cost after epoch 150: 0.575895\n",
            "Dev cost after epoch 150: 0.305114\n",
            "Train Accuracy: 0.8992889\n",
            "Dev Accuracy: 0.94285715\n",
            "\n",
            "Cost after epoch 155: 0.572923\n",
            "Dev cost after epoch 155: 0.301002\n",
            "Train Accuracy: 0.8992\n",
            "Dev Accuracy: 0.96\n",
            "\n",
            "Cost after epoch 160: 0.577710\n",
            "Dev cost after epoch 160: 0.300211\n",
            "Train Accuracy: 0.9009778\n",
            "Dev Accuracy: 0.94857144\n",
            "\n",
            "Cost after epoch 165: 0.565123\n",
            "Dev cost after epoch 165: 0.297009\n",
            "Train Accuracy: 0.90213335\n",
            "Dev Accuracy: 0.94285715\n",
            "\n",
            "Cost after epoch 170: 0.571317\n",
            "Dev cost after epoch 170: 0.296602\n",
            "Train Accuracy: 0.90257776\n",
            "Dev Accuracy: 0.93714285\n",
            "\n",
            "Cost after epoch 175: 0.571682\n",
            "Dev cost after epoch 175: 0.295282\n",
            "Train Accuracy: 0.90524447\n",
            "Dev Accuracy: 0.93714285\n",
            "\n",
            "Cost after epoch 180: 0.573999\n",
            "Dev cost after epoch 180: 0.294203\n",
            "Train Accuracy: 0.90533334\n",
            "Dev Accuracy: 0.93142855\n",
            "\n",
            "Cost after epoch 185: 0.557754\n",
            "Dev cost after epoch 185: 0.292205\n",
            "Train Accuracy: 0.9064\n",
            "Dev Accuracy: 0.93714285\n",
            "\n",
            "Cost after epoch 190: 0.554149\n",
            "Dev cost after epoch 190: 0.286196\n",
            "Train Accuracy: 0.90826666\n",
            "Dev Accuracy: 0.93714285\n",
            "\n",
            "Cost after epoch 195: 0.565326\n",
            "Dev cost after epoch 195: 0.281904\n",
            "Train Accuracy: 0.9092444\n",
            "Dev Accuracy: 0.94285715\n",
            "\n",
            "Cost after epoch 200: 0.559509\n",
            "Dev cost after epoch 200: 0.279118\n",
            "Train Accuracy: 0.91084445\n",
            "Dev Accuracy: 0.93714285\n",
            "\n",
            "Cost after epoch 205: 0.548696\n",
            "Dev cost after epoch 205: 0.274110\n",
            "Train Accuracy: 0.9105778\n",
            "Dev Accuracy: 0.94285715\n",
            "\n",
            "Cost after epoch 210: 0.551981\n",
            "Dev cost after epoch 210: 0.271067\n",
            "Train Accuracy: 0.91022223\n",
            "Dev Accuracy: 0.93714285\n",
            "\n",
            "Cost after epoch 215: 0.554344\n",
            "Dev cost after epoch 215: 0.270393\n",
            "Train Accuracy: 0.912\n",
            "Dev Accuracy: 0.94285715\n",
            "\n",
            "Cost after epoch 220: 0.538403\n",
            "Dev cost after epoch 220: 0.262558\n",
            "Train Accuracy: 0.9136\n",
            "Dev Accuracy: 0.93714285\n",
            "\n",
            "Cost after epoch 225: 0.533680\n",
            "Dev cost after epoch 225: 0.264462\n",
            "Train Accuracy: 0.9151111\n",
            "Dev Accuracy: 0.94285715\n",
            "\n",
            "Cost after epoch 230: 0.537556\n",
            "Dev cost after epoch 230: 0.261795\n",
            "Train Accuracy: 0.91528887\n",
            "Dev Accuracy: 0.94857144\n",
            "\n",
            "Cost after epoch 235: 0.533205\n",
            "Dev cost after epoch 235: 0.259136\n",
            "Train Accuracy: 0.91635555\n",
            "Dev Accuracy: 0.94857144\n",
            "\n",
            "Cost after epoch 240: 0.537001\n",
            "Dev cost after epoch 240: 0.262012\n",
            "Train Accuracy: 0.9184\n",
            "Dev Accuracy: 0.94285715\n",
            "\n",
            "Cost after epoch 245: 0.533972\n",
            "Dev cost after epoch 245: 0.255220\n",
            "Train Accuracy: 0.9196444\n",
            "Dev Accuracy: 0.94285715\n",
            "\n",
            "Cost after epoch 250: 0.529472\n",
            "Dev cost after epoch 250: 0.258424\n",
            "Train Accuracy: 0.91973335\n",
            "Dev Accuracy: 0.93714285\n",
            "\n",
            "Cost after epoch 255: 0.522698\n",
            "Dev cost after epoch 255: 0.252096\n",
            "Train Accuracy: 0.9225778\n",
            "Dev Accuracy: 0.94285715\n",
            "\n",
            "Cost after epoch 260: 0.515928\n",
            "Dev cost after epoch 260: 0.252238\n",
            "Train Accuracy: 0.9224\n",
            "Dev Accuracy: 0.94285715\n",
            "\n",
            "Cost after epoch 265: 0.517562\n",
            "Dev cost after epoch 265: 0.247747\n",
            "Train Accuracy: 0.92524445\n",
            "Dev Accuracy: 0.94285715\n",
            "\n",
            "Cost after epoch 270: 0.515767\n",
            "Dev cost after epoch 270: 0.252472\n",
            "Train Accuracy: 0.9274667\n",
            "Dev Accuracy: 0.94857144\n",
            "\n",
            "Cost after epoch 275: 0.519340\n",
            "Dev cost after epoch 275: 0.240841\n",
            "Train Accuracy: 0.9302222\n",
            "Dev Accuracy: 0.93714285\n",
            "\n",
            "Cost after epoch 280: 0.504398\n",
            "Dev cost after epoch 280: 0.241458\n",
            "Train Accuracy: 0.92995554\n",
            "Dev Accuracy: 0.94285715\n",
            "\n",
            "Cost after epoch 285: 0.513302\n",
            "Dev cost after epoch 285: 0.242901\n",
            "Train Accuracy: 0.9319111\n",
            "Dev Accuracy: 0.94857144\n",
            "\n",
            "Cost after epoch 290: 0.508836\n",
            "Dev cost after epoch 290: 0.240369\n",
            "Train Accuracy: 0.93475556\n",
            "Dev Accuracy: 0.95428574\n",
            "\n",
            "Cost after epoch 295: 0.506594\n",
            "Dev cost after epoch 295: 0.235562\n",
            "Train Accuracy: 0.94008887\n",
            "Dev Accuracy: 0.94285715\n",
            "\n",
            "Cost after epoch 300: 0.499685\n",
            "Dev cost after epoch 300: 0.238190\n",
            "Train Accuracy: 0.9374222\n",
            "Dev Accuracy: 0.95428574\n",
            "\n",
            "Cost after epoch 305: 0.501671\n",
            "Dev cost after epoch 305: 0.236567\n",
            "Train Accuracy: 0.9393778\n",
            "Dev Accuracy: 0.93714285\n",
            "\n",
            "Cost after epoch 310: 0.498408\n",
            "Dev cost after epoch 310: 0.236838\n",
            "Train Accuracy: 0.9408\n",
            "Dev Accuracy: 0.93714285\n",
            "\n",
            "Cost after epoch 315: 0.495312\n",
            "Dev cost after epoch 315: 0.237429\n",
            "Train Accuracy: 0.94373333\n",
            "Dev Accuracy: 0.93142855\n",
            "\n",
            "Cost after epoch 320: 0.491403\n",
            "Dev cost after epoch 320: 0.234924\n",
            "Train Accuracy: 0.9416\n",
            "Dev Accuracy: 0.94285715\n",
            "\n",
            "Cost after epoch 325: 0.497568\n",
            "Dev cost after epoch 325: 0.232354\n",
            "Train Accuracy: 0.94906664\n",
            "Dev Accuracy: 0.94285715\n",
            "\n",
            "Cost after epoch 330: 0.488214\n",
            "Dev cost after epoch 330: 0.228112\n",
            "Train Accuracy: 0.9496\n",
            "Dev Accuracy: 0.94285715\n",
            "\n",
            "Cost after epoch 335: 0.487815\n",
            "Dev cost after epoch 335: 0.228161\n",
            "Train Accuracy: 0.9497778\n",
            "Dev Accuracy: 0.93714285\n",
            "\n",
            "Cost after epoch 340: 0.480447\n",
            "Dev cost after epoch 340: 0.231366\n",
            "Train Accuracy: 0.95137775\n",
            "Dev Accuracy: 0.93142855\n",
            "\n",
            "Cost after epoch 345: 0.475922\n",
            "Dev cost after epoch 345: 0.227058\n",
            "Train Accuracy: 0.9518222\n",
            "Dev Accuracy: 0.93142855\n",
            "\n",
            "Cost after epoch 350: 0.486268\n",
            "Dev cost after epoch 350: 0.221967\n",
            "Train Accuracy: 0.9568\n",
            "Dev Accuracy: 0.93714285\n",
            "\n",
            "Cost after epoch 355: 0.471475\n",
            "Dev cost after epoch 355: 0.217726\n",
            "Train Accuracy: 0.9592889\n",
            "Dev Accuracy: 0.94857144\n",
            "\n",
            "Cost after epoch 360: 0.472767\n",
            "Dev cost after epoch 360: 0.222619\n",
            "Train Accuracy: 0.95955557\n",
            "Dev Accuracy: 0.93714285\n",
            "\n",
            "Cost after epoch 365: 0.484491\n",
            "Dev cost after epoch 365: 0.223605\n",
            "Train Accuracy: 0.9617778\n",
            "Dev Accuracy: 0.93714285\n",
            "\n",
            "Cost after epoch 370: 0.471733\n",
            "Dev cost after epoch 370: 0.220520\n",
            "Train Accuracy: 0.9648\n",
            "Dev Accuracy: 0.94285715\n",
            "\n",
            "Cost after epoch 375: 0.465775\n",
            "Dev cost after epoch 375: 0.220610\n",
            "Train Accuracy: 0.9654222\n",
            "Dev Accuracy: 0.93714285\n",
            "\n",
            "Cost after epoch 380: 0.480273\n",
            "Dev cost after epoch 380: 0.228773\n",
            "Train Accuracy: 0.9645333\n",
            "Dev Accuracy: 0.93142855\n",
            "\n",
            "Cost after epoch 385: 0.468871\n",
            "Dev cost after epoch 385: 0.224301\n",
            "Train Accuracy: 0.96764445\n",
            "Dev Accuracy: 0.93142855\n",
            "\n",
            "Cost after epoch 390: 0.469663\n",
            "Dev cost after epoch 390: 0.223469\n",
            "Train Accuracy: 0.96897775\n",
            "Dev Accuracy: 0.9257143\n",
            "\n",
            "Cost after epoch 395: 0.459666\n",
            "Dev cost after epoch 395: 0.221159\n",
            "Train Accuracy: 0.97022223\n",
            "Dev Accuracy: 0.9257143\n",
            "\n",
            "Cost after epoch 400: 0.455881\n",
            "Dev cost after epoch 400: 0.221600\n",
            "Train Accuracy: 0.9704\n",
            "Dev Accuracy: 0.9257143\n",
            "\n",
            "Cost after epoch 405: 0.457398\n",
            "Dev cost after epoch 405: 0.223410\n",
            "Train Accuracy: 0.97146666\n",
            "Dev Accuracy: 0.93142855\n",
            "\n",
            "Cost after epoch 410: 0.458061\n",
            "Dev cost after epoch 410: 0.229269\n",
            "Train Accuracy: 0.96995556\n",
            "Dev Accuracy: 0.92\n",
            "\n",
            "Cost after epoch 415: 0.460316\n",
            "Dev cost after epoch 415: 0.220611\n",
            "Train Accuracy: 0.9736\n",
            "Dev Accuracy: 0.93142855\n",
            "\n",
            "Cost after epoch 420: 0.451716\n",
            "Dev cost after epoch 420: 0.225440\n",
            "Train Accuracy: 0.9721778\n",
            "Dev Accuracy: 0.92\n",
            "\n",
            "Cost after epoch 425: 0.456692\n",
            "Dev cost after epoch 425: 0.219040\n",
            "Train Accuracy: 0.9744\n",
            "Dev Accuracy: 0.92\n",
            "\n",
            "Cost after epoch 430: 0.452921\n",
            "Dev cost after epoch 430: 0.220261\n",
            "Train Accuracy: 0.97386664\n",
            "Dev Accuracy: 0.92\n",
            "\n",
            "Cost after epoch 435: 0.451121\n",
            "Dev cost after epoch 435: 0.216947\n",
            "Train Accuracy: 0.9767111\n",
            "Dev Accuracy: 0.9257143\n",
            "\n",
            "Cost after epoch 440: 0.453662\n",
            "Dev cost after epoch 440: 0.219284\n",
            "Train Accuracy: 0.97697777\n",
            "Dev Accuracy: 0.9257143\n",
            "\n",
            "Cost after epoch 445: 0.453490\n",
            "Dev cost after epoch 445: 0.223790\n",
            "Train Accuracy: 0.97635555\n",
            "Dev Accuracy: 0.92\n",
            "\n",
            "Cost after epoch 450: 0.449129\n",
            "Dev cost after epoch 450: 0.219737\n",
            "Train Accuracy: 0.9773333\n",
            "Dev Accuracy: 0.92\n",
            "\n",
            "Cost after epoch 455: 0.446665\n",
            "Dev cost after epoch 455: 0.218859\n",
            "Train Accuracy: 0.9783111\n",
            "Dev Accuracy: 0.9257143\n",
            "\n",
            "Cost after epoch 460: 0.434323\n",
            "Dev cost after epoch 460: 0.217633\n",
            "Train Accuracy: 0.97893333\n",
            "Dev Accuracy: 0.9257143\n",
            "\n",
            "Cost after epoch 465: 0.434490\n",
            "Dev cost after epoch 465: 0.214504\n",
            "Train Accuracy: 0.9777778\n",
            "Dev Accuracy: 0.9257143\n",
            "KeyboardInterrupt received. Stopping early\n"
          ]
        },
        {
          "output_type": "display_data",
          "data": {
            "text/plain": [
              "<Figure size 432x288 with 1 Axes>"
            ],
            "image/png": "[encoded data removed]"
          },
          "metadata": {
            "needs_background": "light"
          }
        }
      ]
    },
    {
      "cell_type": "code",
      "source": [
        "def predict(X_test, session_path, model_file, Y_test_onehot=None):\n",
        "\n",
        "    tf.reset_default_graph()\n",
        "\n",
        "    checkpoint_path = session_path\n",
        "    model_path = session_path + model_file\n",
        "\n",
        "    with tf.Session() as sess:\n",
        "        loader = tf.train.import_meta_graph(model_path)\n",
        "        loader.restore(sess, tf.train.latest_checkpoint(checkpoint_path))\n",
        "\n",
        "        graph = tf.get_default_graph()\n",
        "\n",
        "        X = graph.get_tensor_by_name('X:0')\n",
        "        Y = graph.get_tensor_by_name('Y:0')\n",
        "        is_train = graph.get_tensor_by_name('is_train:0')\n",
        "        \n",
        "        epoch_counter = graph.get_tensor_by_name('epoch_counter:0')\n",
        "        print(epoch_counter.eval())\n",
        "\n",
        "        Y_hat = graph.get_tensor_by_name('softmax_output:0')\n",
        "\n",
        "        predict_op = tf.argmax(Y_hat, 1)\n",
        "\n",
        "        y_hat_test = predict_op.eval({X: X_test, is_train: False})\n",
        "        \n",
        "        # print the accuracy of the test set if the labels are provided\n",
        "        if (Y_test_onehot is not None):\n",
        "            y_test = np.argmax(Y_test_onehot, 1)\n",
        "            print('Accuracy: %f' % (y_hat_test == y_test).mean())\n",
        "        \n",
        "\n",
        "    return y_hat_test"
      ],
      "metadata": {
        "id": "IHRz6Cj8UUIp"
      },
      "execution_count": 167,
      "outputs": []
    },
    {
      "cell_type": "code",
      "source": [
        "def predict_voting(X_test_voting, session_path, model_file):\n",
        "\n",
        "    tf.reset_default_graph()\n",
        "\n",
        "    checkpoint_path = session_path\n",
        "    model_path = session_path + model_file\n",
        "    \n",
        "    y_hat_test_voting = []\n",
        "\n",
        "    with tf.Session() as sess:\n",
        "        loader = tf.train.import_meta_graph(model_path)\n",
        "        loader.restore(sess, tf.train.latest_checkpoint(checkpoint_path))\n",
        "\n",
        "        graph = tf.get_default_graph()\n",
        "\n",
        "        X = graph.get_tensor_by_name('X:0')\n",
        "        is_train = graph.get_tensor_by_name('is_train:0')\n",
        "\n",
        "        Y_hat = graph.get_tensor_by_name('softmax_output:0')\n",
        "\n",
        "        predict_op = tf.argmax(Y_hat, 1)\n",
        "        \n",
        "        classname, idx, counts = tf.unique_with_counts(predict_op)\n",
        "        predict_voting_op = tf.gather(classname, tf.argmax(counts))\n",
        "\n",
        "        # no. of training examples with the original feature size\n",
        "        m = X_test_voting.shape[0]\n",
        "        \n",
        "        # no. of split training examples of each original example\n",
        "        m_each = X_test_voting.shape[1]\n",
        "        \n",
        "        for ex in range(m):\n",
        "            x_test_voting = make_dimensions_compatible(X_test_voting[ex])\n",
        "            pred = predict_voting_op.eval({X: x_test_voting, is_train: False})\n",
        "            \n",
        "            y_hat_test_voting.append(pred)\n",
        "\n",
        "    return y_hat_test_voting"
      ],
      "metadata": {
        "id": "eVLNd3OlU4zE"
      },
      "execution_count": 168,
      "outputs": []
    },
    {
      "cell_type": "code",
      "source": [
        "predictions = predict(X_dev, '/content/train/dataset-512-1/cnn8_lr-0.00002_mbs-128','/model.meta', Y_test_onehot=Y_dev)\n",
        "\n",
        "print(\"\\nPredicted values:\")\n",
        "print(predictions)\n",
        "\n",
        "print(\"\\nActual values:\")\n",
        "print(np.argmax(Y_test, 1))"
      ],
      "metadata": {
        "colab": {
          "base_uri": "https://localhost:8080/"
        },
        "id": "vv70RYKjic6L",
        "outputId": "94195023-8b7e-403a-c561-e6e2b592259f"
      },
      "execution_count": 197,
      "outputs": [
        {
          "output_type": "stream",
          "name": "stdout",
          "text": [
            "INFO:tensorflow:Restoring parameters from /content/train/dataset-512-1/cnn8_lr-0.00002_mbs-128/model\n",
            "\n",
            "Predicted values:\n",
            "(array([0, 0, 0, 0, 0, 0, 0, 0, 0, 0, 0, 0, 0, 0, 0, 0, 0, 0, 0, 0, 0, 0,\n",
            "       0, 0, 0, 0, 0, 0, 0, 0, 0, 0, 0, 0, 0, 0, 0, 0, 0, 0, 0, 0, 0, 0,\n",
            "       0, 0, 0, 0, 0, 0, 0, 0, 0, 0, 0, 0, 0, 0, 0, 0, 0, 0, 0, 0, 0, 0,\n",
            "       0, 0, 0, 0, 1, 1, 1, 1, 1, 1, 1, 1, 1, 1, 1, 1, 1, 1, 1, 1, 1, 1,\n",
            "       1, 1, 1, 1, 1, 1, 1, 1, 1, 1, 1, 1, 1, 1, 1, 1, 1, 1, 1, 1, 1, 1,\n",
            "       1, 1, 1, 1, 1, 1, 1, 1, 1, 1, 1, 1, 1, 1, 1, 1, 1, 1, 1, 1, 1, 1,\n",
            "       1, 1, 1, 1, 1, 1, 1, 1, 2, 2, 2, 2, 2, 2, 2, 2, 2, 2, 2, 2, 2, 2,\n",
            "       2, 2, 2, 2, 2, 2, 2, 2, 2, 2, 2, 2, 2, 2, 2, 2, 2, 2, 2, 2, 2]), 1.0)\n",
            "\n",
            "Actual values:\n",
            "[0 0 0 0 0 0 0 0 0 0 0 0 0 0 0 0 0 0 0 0 0 0 0 0 0 0 0 0 0 0 0 0 0 0 0 0 0\n",
            " 0 0 0 0 0 0 0 0 0 0 0 0 0 0 0 0 0 0 0 0 0 0 0 0 0 0 0 0 0 0 0 0 0 1 1 1 1\n",
            " 1 1 1 1 1 1 1 1 1 1 1 1 1 1 1 1 1 1 1 1 1 1 1 1 1 1 1 1 1 1 1 1 1 1 1 1 1\n",
            " 1 1 1 1 1 1 1 1 1 1 1 1 1 1 1 1 1 1 1 1 1 1 1 1 1 1 1 1 1 2 2 2 2 2 2 2 2\n",
            " 2 2 2 2 2 2 2 2 2 2 2 2 2 2 2 2 2 2 2 2 2 2 2 2 2 2 2]\n"
          ]
        }
      ]
    },
    {
      "cell_type": "code",
      "source": [
        "testfile = '/content/random-iter-1/testset_voting_1024.h5'\n",
        "session_path = '/content/train/dataset-512-1/cnn8_lr-0.00002_mbs-128'\n",
        "model_file = '/model.meta'\n",
        "\n",
        "with h5.File(testfile, 'r') as testfile:\n",
        "    X_test_voting = testfile['X']\n",
        "    X_test_voting = np.array(X_test_voting) / 1000\n",
        "    y_test_voting = np.array(testfile['Y'])\n",
        "    \n",
        "    y_hat_test_voting = predict_voting(X_test_voting, session_path, model_file)\n",
        "    \n",
        "    print(\"Accuracy with voting: %f\" % (y_test_voting == y_hat_test_voting).mean())"
      ],
      "metadata": {
        "colab": {
          "base_uri": "https://localhost:8080/"
        },
        "id": "Ri1xOr7IjMRt",
        "outputId": "228d94fe-3eab-4367-b318-5103282a4458"
      },
      "execution_count": 198,
      "outputs": [
        {
          "output_type": "stream",
          "name": "stdout",
          "text": [
            "INFO:tensorflow:Restoring parameters from /content/train/dataset-512-1/cnn8_lr-0.00002_mbs-128/model\n",
            "Accuracy with voting: 1.000000\n"
          ]
        }
      ]
    },
    {
      "cell_type": "code",
      "source": [
        "def make_dimensions_compatible(arr):\n",
        "    \n",
        "    return arr.reshape(arr.shape[0],-1,1)"
      ],
      "metadata": {
        "id": "MCSqEKT-UUv2"
      },
      "execution_count": 199,
      "outputs": []
    },
    {
      "cell_type": "code",
      "source": [
        "def load_dataset(dataset_iter=1, window_size=512):\n",
        "    global X_train, Y_train, X_dev, Y_dev, X_test, Y_test\n",
        "    \n",
        "    dataset_relative_path = 'dataset/random-iter-%d/' % dataset_iter\n",
        "    \n",
        "    datafile = dataset_relative_path + 'datafile%d.h5' % window_size\n",
        "\n",
        "    with h5.File(datafile, 'r') as datafile:\n",
        "        X_train = np.array(datafile['X_train'])\n",
        "        Y_train = np.array(datafile['Y_train'])\n",
        "\n",
        "        X_dev = np.array(datafile['X_dev'])\n",
        "        Y_dev = np.array(datafile['Y_dev'])\n",
        "\n",
        "        X_test = np.array(datafile['X_test'])\n",
        "        Y_test = np.array(datafile['Y_test'])\n",
        "        \n",
        "        # setting the rank of the data to be compatible with 1d convolution functions\n",
        "        # defined in tensorflow\n",
        "        X_train = make_dimensions_compatible(X_train)\n",
        "        X_dev = make_dimensions_compatible(X_dev)\n",
        "        X_test = make_dimensions_compatible(X_test)\n",
        "        \n",
        "        # normalization\n",
        "        X_train = X_train / 1000\n",
        "        X_dev = X_dev / 1000\n",
        "        X_test = X_test / 1000"
      ],
      "metadata": {
        "id": "CTVH4O_-UUyo"
      },
      "execution_count": 200,
      "outputs": []
    },
    {
      "cell_type": "code",
      "source": [
        "def get_session_path(dataset_iter=1, window_size=512, model_num=1, model_prefix='cnn', model_suffix='_lr-0.00002_mbs-128'):\n",
        "    return ('train/dataset-%d-%d/' + model_prefix + '%d' + model_suffix + '/') % (window_size, dataset_iter, model_num)"
      ],
      "metadata": {
        "id": "WmCgICRxUU1g"
      },
      "execution_count": 201,
      "outputs": []
    },
    {
      "cell_type": "code",
      "source": [
        "def predict(X_test, session_path, model_file, Y_test_onehot=None):\n",
        "\n",
        "    tf.reset_default_graph()\n",
        "\n",
        "    checkpoint_path = session_path\n",
        "    model_path = session_path + model_file\n",
        "\n",
        "    with tf.Session() as sess:\n",
        "        loader = tf.train.import_meta_graph(model_path)\n",
        "        loader.restore(sess, tf.train.latest_checkpoint(checkpoint_path))\n",
        "\n",
        "        graph = tf.get_default_graph()\n",
        "\n",
        "        X = graph.get_tensor_by_name('X:0')\n",
        "        Y = graph.get_tensor_by_name('Y:0')\n",
        "        is_train = graph.get_tensor_by_name('is_train:0')\n",
        "        \n",
        "#         epoch_counter = graph.get_tensor_by_name('epoch_counter:0')\n",
        "#         print(epoch_counter.eval())\n",
        "\n",
        "        Y_hat = graph.get_tensor_by_name('softmax_output:0')\n",
        "\n",
        "        predict_op = tf.argmax(Y_hat, 1)\n",
        "\n",
        "        y_hat_test = predict_op.eval({X: X_test, is_train: False})\n",
        "        \n",
        "        # print the accuracy of the test set if the labels are provided\n",
        "        if (Y_test_onehot is not None):\n",
        "            y_test = np.argmax(Y_test_onehot, 1)\n",
        "            acc = (y_hat_test == y_test).mean()\n",
        "        \n",
        "\n",
        "    return y_hat_test, acc"
      ],
      "metadata": {
        "id": "JI2iEUtQUU4X"
      },
      "execution_count": 202,
      "outputs": []
    },
    {
      "cell_type": "code",
      "source": [
        "def predict_voting(X_test_voting, session_path, model_file):\n",
        "\n",
        "    tf.reset_default_graph()\n",
        "\n",
        "    checkpoint_path = session_path\n",
        "    model_path = session_path + model_file\n",
        "    \n",
        "    y_hat_test_voting = []\n",
        "\n",
        "    with tf.Session() as sess:\n",
        "        loader = tf.train.import_meta_graph(model_path)\n",
        "        loader.restore(sess, tf.train.latest_checkpoint(checkpoint_path))\n",
        "\n",
        "        graph = tf.get_default_graph()\n",
        "\n",
        "        X = graph.get_tensor_by_name('X:0')\n",
        "        is_train = graph.get_tensor_by_name('is_train:0')\n",
        "\n",
        "        Y_hat = graph.get_tensor_by_name('softmax_output:0')\n",
        "\n",
        "        predict_op = tf.argmax(Y_hat, 1)\n",
        "        \n",
        "        classname, idx, counts = tf.unique_with_counts(predict_op)\n",
        "        predict_voting_op = tf.gather(classname, tf.argmax(counts))\n",
        "\n",
        "        # no. of training examples with the original feature size\n",
        "        m = X_test_voting.shape[0]\n",
        "        \n",
        "        # no. of split training examples of each original example\n",
        "        m_each = X_test_voting.shape[1]\n",
        "        \n",
        "        for ex in range(m):\n",
        "            x_test_voting = make_dimensions_compatible(X_test_voting[ex])\n",
        "            pred = predict_voting_op.eval({X: x_test_voting, is_train: False})\n",
        "            \n",
        "            y_hat_test_voting.append(pred)\n",
        "\n",
        "    return y_hat_test_voting"
      ],
      "metadata": {
        "id": "_at-lb6pUU7J"
      },
      "execution_count": 203,
      "outputs": []
    },
    {
      "cell_type": "code",
      "source": [
        "# Run the following code to call the above define predict method and check accuracy of the models\n",
        "\n",
        "model_num = 1\n",
        "window_size = 1024\n",
        "iter = (1)\n",
        "\n",
        "accuracies = np.array([])\n",
        "\n",
        "load_dataset(iter, window_size)\n",
        "session_path = '/content/train/dataset-1024-1/cnn8_lr-0.00002_mbs-128'\n",
        "predictions, acc = predict(X_test, session_path, '/model.meta', Y_test_onehot=Y_test)\n",
        "accuracies = np.append(accuracies, acc)\n",
        "\n",
        "accuracies = accuracies * 100\n",
        "print(accuracies)\n",
        "\n",
        "print(\"Mean accuracy: %f\" % accuracies.mean())"
      ],
      "metadata": {
        "colab": {
          "base_uri": "https://localhost:8080/"
        },
        "id": "lwzPkV4YjdUC",
        "outputId": "44c7ccc9-18c0-4701-ac92-e73e7144e454"
      },
      "execution_count": 238,
      "outputs": [
        {
          "output_type": "stream",
          "name": "stdout",
          "text": [
            "INFO:tensorflow:Restoring parameters from /content/train/dataset-1024-1/cnn8_lr-0.00002_mbs-128/model\n",
            "[98.28571429]\n",
            "Mean accuracy: 98.285714\n"
          ]
        }
      ]
    },
    {
      "cell_type": "code",
      "source": [
        "from numpy.lib.function_base import bartlett\n",
        "model_num = 1\n",
        "window_size = 1024\n",
        "dataset_iters = (1)\n",
        "\n",
        "\n",
        "accuracies_voting = np.array([])\n",
        "sensitivities_voting = np.array([])\n",
        "specificities_voting = np.array([])\n",
        "precisions_voting = np.array([])\n",
        "\n",
        "dataaset_relative_path = '/content/random-iter-1/'\n",
        "testfile = (dataset_relative_path + '/testset_voting_%d.h5') % window_size\n",
        "session_path = get_session_path(dataset_iter, window_size, model_num)\n",
        "model_file = '/model.meta'\n",
        "\n",
        "\n",
        "\n",
        "with h5.File(testfile, 'r') as testfile:\n",
        "  \n",
        "  X_test_voting = testfile['X']\n",
        "  X_test_voting = np.array(X_test_voting) / 1000\n",
        "  y_test_voting = np.array(testfile['Y'])\n",
        "        \n",
        "  no_of_classes = 3\n",
        "  session_path = '/content/train/dataset-1024-1/cnn8_lr-0.00002_mbs-128'\n",
        "  y_hat_test_voting = np.array(predict_voting(X_test_voting, session_path, model_file))\n",
        "\n",
        "  acc_voting_model = (y_test_voting == y_hat_test_voting).mean()\n",
        "  accuracies_voting = np.append(accuracies_voting, acc_voting_model)\n",
        "        \n",
        "        # specificity and sensitivity\n",
        "  specificity = 0\n",
        "  sensitivity = 0\n",
        "  precision = 0\n",
        "  for i in range(no_of_classes):\n",
        "    \n",
        "    specificity_vector = ((y_hat_test_voting != i) == (y_test_voting != i))[y_test_voting != i]\n",
        "    sensitivity_vector = ((y_hat_test_voting == i) == (y_test_voting == i))[y_test_voting == i]\n",
        "    precision_vector = ((y_hat_test_voting == i) == (y_test_voting == i))[y_hat_test_voting == i]\n",
        "            \n",
        "    specificity = specificity + specificity_vector.sum() / len(specificity_vector)\n",
        "    sensitivity = sensitivity + sensitivity_vector.sum() / len(sensitivity_vector)\n",
        "    precision = precision + precision_vector.sum() / len(precision_vector)\n",
        "        \n",
        "    specificity = specificity / no_of_classes\n",
        "    sensitivity = sensitivity / no_of_classes\n",
        "    precision = precision / no_of_classes\n",
        "        \n",
        "    specificities_voting = np.append(specificities_voting, specificity)\n",
        "    sensitivities_voting = np.append(sensitivities_voting, sensitivity)\n",
        "    precisions_voting = np.append(precisions_voting, precision)\n",
        "\n",
        "\n",
        "# Computing F-Score\n",
        "Pre = precisions_voting.mean()\n",
        "Sen = sensitivities_voting.mean()\n",
        "F_Score = (2 * Pre * Sen) / (Pre + Sen)\n",
        "        \n",
        "accuracies_voting = accuracies_voting * 100\n",
        "print(\"Accuracy with voting: \", accuracies_voting)\n",
        "print(\"Mean accuracy with voting: %f\" % accuracies_voting.mean())\n",
        "print(\"\\n\\n\")\n",
        "print(\"Specifities: \", specificities_voting)\n",
        "print(\"Mean specificity with voting: %f\" % specificities_voting.mean())\n",
        "print(\"\\n\\n\")\n",
        "print(\"Sensitivities: \", sensitivities_voting)\n",
        "print(\"Mean sensitivity with voting: %f\" % sensitivities_voting.mean())\n",
        "# print(\"Mean precision with voting: %f\" % Pre)\n",
        "print(\"Mean F-Score with voting: %f\" % F_Score)\n",
        "print(\"Standard deviation: %f\" % accuracies_voting.std())\n",
        "\n",
        "# print(\"Actual labels:\\n\", y_test_voting)\n",
        "# print(\"\\n\\nPredictions:\\n\", y_hat_test_voting)\n"
      ],
      "metadata": {
        "colab": {
          "base_uri": "https://localhost:8080/"
        },
        "id": "-DVW_VrJjdXC",
        "outputId": "8135425b-a916-49ac-abca-7a1d3d62d460"
      },
      "execution_count": 239,
      "outputs": [
        {
          "output_type": "stream",
          "name": "stdout",
          "text": [
            "INFO:tensorflow:Restoring parameters from /content/train/dataset-1024-1/cnn8_lr-0.00002_mbs-128/model\n",
            "Accuracy with voting:  [100.]\n",
            "Mean accuracy with voting: 100.000000\n",
            "\n",
            "\n",
            "\n",
            "Specifities:  [0.33333333 0.44444444 0.48148148]\n",
            "Mean specificity with voting: 0.419753\n",
            "\n",
            "\n",
            "\n",
            "Sensitivities:  [0.33333333 0.44444444 0.48148148]\n",
            "Mean sensitivity with voting: 0.419753\n",
            "Mean F-Score with voting: 0.419753\n",
            "Standard deviation: 0.000000\n"
          ]
        }
      ]
    }
  ]
}